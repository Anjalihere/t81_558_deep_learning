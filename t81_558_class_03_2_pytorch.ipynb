{
  "cells": [
    {
      "cell_type": "markdown",
      "metadata": {
        "id": "bLEEW13uCtiJ"
      },
      "source": [
        "<a href=\"https://colab.research.google.com/github/jeffheaton/t81_558_deep_learning/blob/pytorch/t81_558_class_03_2_pytorch.ipynb\" target=\"_parent\"><img src=\"https://colab.research.google.com/assets/colab-badge.svg\" alt=\"Open In Colab\"/></a>"
      ]
    },
    {
      "cell_type": "markdown",
      "metadata": {
        "id": "5oX6K_-JCtiL"
      },
      "source": [
        "# T81-558: Applications of Deep Neural Networks\n",
        "**Module 3: Introduction to PyTorch**\n",
        "* Instructor: [Jeff Heaton](https://sites.wustl.edu/jeffheaton/), McKelvey School of Engineering, [Washington University in St. Louis](https://engineering.wustl.edu/Programs/Pages/default.aspx)\n",
        "* For more information visit the [class website](https://sites.wustl.edu/jeffheaton/t81-558/)."
      ]
    },
    {
      "cell_type": "markdown",
      "metadata": {
        "id": "FzlMdsudCtiL"
      },
      "source": [
        "# Module 3 Material\n",
        "\n",
        "* Part 3.1: Deep Learning and Neural Network Introduction [[Video]](https://www.youtube.com/watch?v=zYnI4iWRmpc&list=PLjy4p-07OYzulelvJ5KVaT2pDlxivl_BN) [[Notebook]](t81_558_class_03_1_neural_net.ipynb)\n",
        "* **Part 3.2: Introduction to Tensorflow and PyTorch** [[Video]](https://www.youtube.com/watch?v=PsE73jk55cE&list=PLjy4p-07OYzulelvJ5KVaT2pDlxivl_BN) [[Notebook]](t81_558_class_03_2_pytorch.ipynb)\n",
        "* Part 3.3: Saving and Loading a PyTorch Neural Network [[Video]](https://www.youtube.com/watch?v=-9QfbGM1qGw&list=PLjy4p-07OYzulelvJ5KVaT2pDlxivl_BN) [[Notebook]](t81_558_class_03_3_save_load.ipynb)\n",
        "* Part 3.4: Early Stopping in PyTorch to Prevent Overfitting [[Video]](https://www.youtube.com/watch?v=m1LNunuI2fk&list=PLjy4p-07OYzulelvJ5KVaT2pDlxivl_BN) [[Notebook]](t81_558_class_03_4_early_stop.ipynb)\n",
        "* Part 3.5: Extracting Weights and Manual Calculation [[Video]](https://www.youtube.com/watch?v=7PWgx16kH8s&list=PLjy4p-07OYzulelvJ5KVaT2pDlxivl_BN) [[Notebook]](t81_558_class_03_5_weights.ipynb)"
      ]
    },
    {
      "cell_type": "markdown",
      "metadata": {
        "id": "CpVJpj2DCtiM"
      },
      "source": [
        "# Google CoLab Instructions\n",
        "\n",
        "The following code ensures that Google CoLab is running and maps Google Drive if needed."
      ]
    },
    {
      "cell_type": "code",
      "execution_count": null,
      "metadata": {
        "colab": {
          "base_uri": "https://localhost:8080/"
        },
        "id": "wU1AMzx8CtiM",
        "outputId": "64bf9d86-6195-40ed-ce9f-c54a9d86b5cf"
      },
      "outputs": [
        {
          "output_type": "stream",
          "name": "stdout",
          "text": [
            "Note: using Google CoLab\n"
          ]
        }
      ],
      "source": [
        "try:\n",
        "    COLAB = True\n",
        "    print(\"Note: using Google CoLab\")\n",
        "except:\n",
        "    print(\"Note: not using Google CoLab\")\n",
        "    COLAB = False"
      ]
    },
    {
      "cell_type": "markdown",
      "metadata": {
        "id": "1Zg-zNx0CtiN"
      },
      "source": [
        "# Part 3.2: Introduction to PyTorch\n",
        "\n",
        "PyTorch [[Cite:paszke2019pytorch]](https://arxiv.org/abs/1912.01703) is an open-source software library for machine learning in various kinds of perceptual and language understanding tasks. It is currently used for research and production by different teams at [Meta Platforms](https://about.facebook.com/). Companies have built several pieces of deep learning software on top of PyTorch, including Tesla Autopilot, Uber's Pyro, Hugging Face's Transformers, PyTorch Lightning, and Catalyst. PyTorch provides two high-level features: NumPy-like tensor computing and deep neural networks.\n",
        "\n",
        "* [PyTorch Homepage](https://pytorch.org/)\n",
        "* [PyTorch GitHib](https://github.com/pytorch/pytorch)\n",
        "* [PyTorch Forums](https://discuss.pytorch.org/)\n",
        "\n",
        "## Why PyTorch\n",
        "\n",
        "* Supported by Meta\n",
        "* Works well on Windows, Linux, and Mac\n",
        "* Excellent GPU support\n",
        "* Python is an easy to learn programming language\n",
        "* Python is extremely popular in the data science community\n",
        "\n",
        "## Deep Learning Tools\n",
        "PyTorch is not the only game in town. The biggest competitor to PyTorch is TensorFlow/Keras. Listed below are some of the deep learning toolkits actively being supported:\n",
        "\n",
        "* **[TensorFlow](https://www.tensorflow.org/)** - Google's deep learning API.  The focus of this class, along with Keras.\n",
        "* **[Keras](https://keras.io/)** - Acts as a higher-level to Tensorflow.\n",
        "* **[PyTorch](https://pytorch.org/)** - PyTorch is an open-source machine learning library based on the Torch library, used for computer vision and natural language applications processing. Facebook's AI Research lab primarily develops PyTorch. \n",
        "\n",
        "Other deep learning tools:\n",
        "\n",
        "* **[Deeplearning4J](http://deeplearning4j.org/)** - Java-based. Supports all major platforms. GPU support in Java!\n",
        "* **[H2O](http://www.h2o.ai/)** - Java-based.  \n",
        "\n",
        "In my opinion, the two primary Python libraries for deep learning are PyTorch and Keras. Generally, PyTorch requires more lines of code to perform the deep learning applications presented in this course. This trait of PyTorch gives Keras an easier learning curve than PyTorch. However, if you are creating entirely new neural network structures in a research setting, PyTorch can make for easier access to some of the low-level internals of deep learning.\n",
        "\n",
        "## Using PyTorch Directly\n",
        "\n",
        "PyTorch is also a low-level mathematics API, similar to [NumPy](http://www.numpy.org/). However, unlike Numpy, PyTorch is built for deep learning. PyTorch compiles these compute graphs into highly efficient C++/[CUDA](https://en.wikipedia.org/wiki/CUDA) code.\n",
        "\n",
        "## PyTorch Linear Algebra Examples\n",
        "\n",
        "PyTorch is a library for linear algebra, other components of PyTorch are a higher-level abstraction for neural networks that you build upon the lower level linear algebra. \n",
        "\n",
        "PyTorch can compute on a GPU, CPU, or other advanced compute device. For this course, we assume you will utilize a GPU or CPU. The following code detects the available device and defines the **device** variable that the following code will use for computation."
      ]
    },
    {
      "cell_type": "code",
      "source": [
        "import torch\n",
        "\n",
        "# Make use of a GPU if one is available.\n",
        "device = torch.device('cuda' if torch.cuda.is_available() else 'cpu')\n",
        "print(f\"Using device: {device}\")"
      ],
      "metadata": {
        "colab": {
          "base_uri": "https://localhost:8080/"
        },
        "id": "istrQO-2-1DK",
        "outputId": "b41fc5ff-742c-4091-e400-e28859b4e144"
      },
      "execution_count": null,
      "outputs": [
        {
          "output_type": "stream",
          "name": "stdout",
          "text": [
            "Using device: cuda\n"
          ]
        }
      ]
    },
    {
      "cell_type": "markdown",
      "source": [
        "Now that we defined a compute device, I will demonstrate some basic linear algebra that directly employs PyTorch and does not implement a neural network. We begin with a the multiplication of a row and column matrix."
      ],
      "metadata": {
        "id": "nsr6Or3oHTDu"
      }
    },
    {
      "cell_type": "code",
      "execution_count": null,
      "metadata": {
        "colab": {
          "base_uri": "https://localhost:8080/"
        },
        "id": "bkh9pHqPCtiO",
        "outputId": "8849c313-5402-4b1f-bbe5-c45ddbbb349f"
      },
      "outputs": [
        {
          "output_type": "stream",
          "name": "stdout",
          "text": [
            "tensor([[12.]], device='cuda:0')\n",
            "12.0\n"
          ]
        }
      ],
      "source": [
        "import torch\n",
        "\n",
        "# Create a Constant op that produces a 1x2 matrix.  The op is\n",
        "# added as a node to the default graph.\n",
        "#\n",
        "# The value returned by the constructor represents the output\n",
        "# of the Constant op.\n",
        "matrix1 = torch.tensor([[3., 3.]],device=device)\n",
        "\n",
        "# Create another Constant that produces a 2x1 matrix.\n",
        "matrix2 = torch.tensor([[2.],[2.]],device=device)\n",
        "\n",
        "# Create a Matmul op that takes 'matrix1' and 'matrix2' as inputs.\n",
        "# The returned value, 'product', represents the result of the matrix\n",
        "# multiplication.\n",
        "product = torch.mm(matrix1, matrix2)\n",
        "\n",
        "print(product)\n",
        "print(float(product))"
      ]
    },
    {
      "cell_type": "markdown",
      "metadata": {
        "id": "pMrXqwskCtiP"
      },
      "source": [
        "This example multiplied two PyTorch tensors. You can see that we created each tensor on the appropriate device, either the GPU or CPU. Next, we will see how to subtract a constant from a variable."
      ]
    },
    {
      "cell_type": "code",
      "execution_count": null,
      "metadata": {
        "colab": {
          "base_uri": "https://localhost:8080/"
        },
        "id": "qKyFCaoTCtiP",
        "outputId": "f4e67f2a-14b5-4d84-af7e-48961086579f"
      },
      "outputs": [
        {
          "output_type": "stream",
          "name": "stdout",
          "text": [
            "tensor([-2., -1.], device='cuda:0')\n",
            "[-2. -1.]\n"
          ]
        }
      ],
      "source": [
        "import torch\n",
        "\n",
        "x = torch.tensor([1.0, 2.0],device=device)\n",
        "a = torch.tensor([3.0, 3.0],device=device)\n",
        "\n",
        "# Add an op to subtract 'a' from 'x'.  Run it and print the result\n",
        "sub = torch.subtract(x, a)\n",
        "print(sub)\n",
        "# Use cpu() in case tensor was on GPU. \n",
        "print(sub.cpu().numpy())\n",
        "# ==> [-2. -1.]"
      ]
    },
    {
      "cell_type": "markdown",
      "metadata": {
        "id": "epQ9LrM6CtiP"
      },
      "source": [
        "Of course, variables are only helpful if we can change their values. The program can accomplish this change in value by calling the assign function. To use Numpy, we must first bring the tensor back to the CPU with the **cpu()** command. Next, we call **numpy()** to access the tensor as a Numpy array. If we were already on the CPU, this function has no effect and returns the already CPU-resident tensor."
      ]
    },
    {
      "cell_type": "code",
      "execution_count": null,
      "metadata": {
        "id": "vtnW5aU-CtiP"
      },
      "outputs": [],
      "source": [
        "x[0] = 4.0\n",
        "x[1] = 6.0"
      ]
    },
    {
      "cell_type": "markdown",
      "metadata": {
        "id": "zHwJP8MjCtiQ"
      },
      "source": [
        "The program can now perform the subtraction with this new value."
      ]
    },
    {
      "cell_type": "code",
      "execution_count": null,
      "metadata": {
        "colab": {
          "base_uri": "https://localhost:8080/"
        },
        "id": "0e26Fe-GCtiQ",
        "outputId": "95aecc2d-5e98-4756-d846-a548d1f0d869"
      },
      "outputs": [
        {
          "output_type": "stream",
          "name": "stdout",
          "text": [
            "tensor([1., 3.], device='cuda:0')\n",
            "[1. 3.]\n"
          ]
        }
      ],
      "source": [
        "sub = torch.subtract(x, a)\n",
        "print(sub)\n",
        "print(sub.cpu().numpy())"
      ]
    },
    {
      "cell_type": "markdown",
      "metadata": {
        "id": "Rq61YFBYCtiQ"
      },
      "source": [
        "In the next section, we will see a PyTorch example that has nothing to do with neural networks."
      ]
    },
    {
      "cell_type": "markdown",
      "metadata": {
        "id": "iMVIS9pBCtiQ"
      },
      "source": [
        "## PyTorch Mandelbrot Set Example\n",
        "\n",
        "Next, we examine another example where we use PyTorch directly. To demonstrate that PyTorch is mathematical and does not only provide neural networks, we will also first use it for a non-machine learning rendering task. The code presented here can render a [Mandelbrot set](https://en.wikipedia.org/wiki/Mandelbrot_set). "
      ]
    },
    {
      "cell_type": "code",
      "source": [
        "import torch\n",
        "import numpy as np\n",
        "\n",
        "import PIL.Image\n",
        "from io import BytesIO\n",
        "from IPython.display import Image, display\n",
        "\n",
        "# Take a NumPy array and render it as a Mandlebrot.\n",
        "def render(a):\n",
        "  a_cyclic = (a*0.3).reshape(list(a.shape)+[1])\n",
        "  img = np.concatenate([10+20*np.cos(a_cyclic),\n",
        "                        30+50*np.sin(a_cyclic),\n",
        "                        155-80*np.cos(a_cyclic)], 2)\n",
        "  img[a==a.max()] = 0\n",
        "  a = img\n",
        "  a = np.uint8(np.clip(a, 0, 255))\n",
        "  f = BytesIO()\n",
        "  return PIL.Image.fromarray(a)\n",
        "\n",
        "# Loop through the render cycles for. Mandlebrot plot.\n",
        "def mandelbrot_helper(grid_c, current_values, counts,cycles):\n",
        "  for i in range(cycles):\n",
        "    # The Mandlebrot formula\n",
        "    temp = current_values*current_values + grid_c\n",
        "    not_diverged = torch.abs(temp) < 4\n",
        "    current_values.copy_(temp)\n",
        "    counts.copy_(torch.add(counts,not_diverged.double()))\n",
        "\n",
        "# Render a Mandlebrot plot at the specified location, zoom, and render cycles.\n",
        "def mandelbrot(render_size,center,zoom,cycles):\n",
        "  f = zoom/render_size[0]\n",
        "\n",
        "  real_start = center[1]-(render_size[1]/2)*f\n",
        "  real_end = real_start + render_size[1]*f \n",
        "  imag_start = center[0]-(render_size[0]/2)*f\n",
        "  imag_end = imag_start + render_size[0]*f \n",
        "\n",
        "  real_range = torch.arange(real_start,real_end,f,dtype=torch.float64,device=device)\n",
        "  imag_range = torch.arange(imag_start,imag_end,f,dtype=torch.float64,device=device)\n",
        "  real, imag = torch.meshgrid(real_range,imag_range)\n",
        "  grid_c = torch.complex(imag, real)\n",
        "  current_values = torch.clone(grid_c) \n",
        "  counts = torch.Tensor(torch.zeros_like(grid_c, dtype=torch.float32))\n",
        "\n",
        "  mandelbrot_helper(grid_c, current_values,counts,cycles)\n",
        "  return counts.cpu().numpy()"
      ],
      "metadata": {
        "id": "9rEFmqbXsfME"
      },
      "execution_count": null,
      "outputs": []
    },
    {
      "cell_type": "markdown",
      "source": [
        "With the above code defined, we can now calculate and render a Mandlebrot plot."
      ],
      "metadata": {
        "id": "O77aOTEDrWRU"
      }
    },
    {
      "cell_type": "code",
      "source": [
        "counts = mandelbrot(\n",
        "    #render_size=(1920,1080), # HD\n",
        "    render_size=(640,480),\n",
        "    center=(-0.5,0),\n",
        "    zoom=4,\n",
        "    cycles=200\n",
        ")  \n",
        "\n",
        "img = render(counts)\n",
        "print(img.size)\n",
        "img"
      ],
      "metadata": {
        "colab": {
          "base_uri": "https://localhost:8080/",
          "height": 515
        },
        "id": "t3ZfV8A_p_5j",
        "outputId": "ac682743-1470-42fe-bc39-8cb2fa60f6aa"
      },
      "execution_count": null,
      "outputs": [
        {
          "output_type": "stream",
          "name": "stdout",
          "text": [
            "(640, 480)\n"
          ]
        },
        {
          "output_type": "execute_result",
          "data": {
            "text/plain": [
              "<PIL.Image.Image image mode=RGB size=640x480 at 0x7FD4F4E071D0>"
            ],
            "image/png": "[encoded data removed]"
          },
          "metadata": {},
          "execution_count": 39
        }
      ]
    },
    {
      "cell_type": "markdown",
      "metadata": {
        "id": "ZeWypKgGCtiR"
      },
      "source": [
        "Mandlebrot rendering programs are both simple and infinitely complex at the same time. This view shows the entire Mandlebrot universe simultaneously, as a view completely zoomed out. However, if you zoom in on any non-black portion of the plot, you will find infinite hidden complexity. \n",
        "\n",
        "## Simple PyTorch Regression: MPG\n",
        "\n",
        "This example shows how to encode the MPG dataset for regression and predict values. We will see if we can predict the miles per gallon (MPG) for a car based on the car's weight, cylinders, engine size, and other features.\n"
      ]
    },
    {
      "cell_type": "code",
      "execution_count": null,
      "metadata": {
        "id": "bmb3cFrUCtiR"
      },
      "outputs": [],
      "source": [
        "import pandas as pd\n",
        "from sklearn.model_selection import train_test_split\n",
        "from sklearn.metrics import accuracy_score\n",
        "\n",
        "import torch\n",
        "import torch.nn as nn\n",
        "import torch.nn.functional as F\n",
        "import numpy as np\n",
        "from torch.autograd import Variable\n",
        "from sklearn import preprocessing\n",
        "\n",
        "# You will create a network class for every PyTorch neural network you create.\n",
        "class Net(nn.Module):\n",
        "    def __init__(self, in_count, out_count):\n",
        "        super(Net, self).__init__()\n",
        "        # We must define each of the layers.\n",
        "        self.fc1 = nn.Linear(in_count, 50)\n",
        "        self.fc2 = nn.Linear(50, 25)\n",
        "        self.fc3 = nn.Linear(25, 1)\n",
        "\n",
        "    def forward(self, x):\n",
        "        # In the forward pass, we must calculate all of the layers we \n",
        "        # previously defined.\n",
        "        x = F.relu(self.fc1(x))\n",
        "        x = F.relu(self.fc2(x))\n",
        "        return self.fc3(x)\n",
        "\n",
        "\n",
        "\n"
      ]
    },
    {
      "cell_type": "markdown",
      "metadata": {
        "id": "82O2rvqiCtiR"
      },
      "source": [
        "You define your neural network in the **Net** class above. The class name does not matter; however, it must subclass **nn.Module** and implement both the **__init__** and **forward** methods. The **__init__** method defines the layers of the neural network. In this case, we have a neural network with an input layer equal to the number of inputs you specify from the MPG dataset. The neural network connects these inputs to 50 neurons in the first hidden layer, which are connected to 25 neurons in the second layer. The output neuron count for a layer must always match the input count of the next layer.\n",
        "\n",
        "The **forward** method links these layers together and also defines the transfer functions. For this book, we will generally always use the Relu activation function for hidden layers. The output layer will use no transfer function for a regression neural network like this MPG example. For classification, we use the logistic for binary classification (just two classes) or softmax for two or more classes.\n",
        "\n",
        "For the neural network to perform correctly, everything must align. The **__init__** method must specify all layers with the same number of outputs as inputs for each connection. Finally, the **forward** method must link all the layers together, in the correct order.\n",
        "\n",
        "We will begin by reading the MPG dataset. "
      ]
    },
    {
      "cell_type": "code",
      "source": [
        "# Read the MPG dataset.\n",
        "df = pd.read_csv(\n",
        "    \"https://data.heatonresearch.com/data/t81-558/auto-mpg.csv\", \n",
        "    na_values=['NA', '?'])\n",
        "\n",
        "cars = df['name']\n",
        "\n",
        "# Handle missing value\n",
        "df['horsepower'] = df['horsepower'].fillna(df['horsepower'].median())\n",
        "\n",
        "# Pandas to Numpy\n",
        "x = df[['cylinders', 'displacement', 'horsepower', 'weight',\n",
        "       'acceleration', 'year', 'origin']].values\n",
        "y = df['mpg'].values # regression\n",
        "\n",
        "# Numpy to PyTorch\n",
        "x = torch.tensor(x,device=device,dtype=torch.float32)\n",
        "y = torch.tensor(y,device=device,dtype=torch.float32)\n",
        "\n"
      ],
      "metadata": {
        "id": "szrd-36UE_ZA"
      },
      "execution_count": null,
      "outputs": []
    },
    {
      "cell_type": "markdown",
      "source": [
        "We use Pandas to load the CSV file, as previously demonstrated. We will save the names of the cars, though the car names do not help predict the MPG. Horsepower does have missing values, so we substitute the median value for any missing values. Next, we convert Pandas to NumPy, and Numpy to PyTorch. We select only the fields that we wish to use to predict. As previously discussed, we designed the Net class to detect the size of this data and add the appropriate count of input neurons.\n",
        "\n",
        "We are ready to create the neural network, loss function, and optimizer class with the data loaded."
      ],
      "metadata": {
        "id": "Af0KuIwCFOMZ"
      }
    },
    {
      "cell_type": "code",
      "source": [
        "# Define the neural network\n",
        "model = Net(x.shape[1],1).to(device)\n",
        "\n",
        "# Define the loss function for regression\n",
        "loss_fn = nn.MSELoss()\n",
        "\n",
        "# Define the optimizer\n",
        "optimizer = torch.optim.Adam(model.parameters(), lr=0.01)\n",
        "\n"
      ],
      "metadata": {
        "id": "tY8-elD1FIsk"
      },
      "execution_count": null,
      "outputs": []
    },
    {
      "cell_type": "markdown",
      "source": [
        "We create the neural network with one input equal to the number of columns in the x-input data. We specify one output neuron which will predict the MPG. Next, we define MSELoss as the error function, which is a common choice for regression. We will use the Adam optimizer with a learning rate of 0.01 to train the network. Adam is a common choice, and 0.01 is a good start for a learning rate. The learning rate should never be above 1.0. Too large of a learning rate will fail to learn the problem thoroughly, and too low of a learning rate will take a long time to train. We will see more advanced methods for choosing the learning rate, including schedules that change it throughout training.\n",
        "\n",
        "With the objects created, we can now train the neural network."
      ],
      "metadata": {
        "id": "41vdE4UqFO-p"
      }
    },
    {
      "cell_type": "code",
      "source": [
        "# Train for 1000 epochs.\n",
        "for epoch in range(1000):\n",
        "    optimizer.zero_grad()\n",
        "    out = model(x).flatten()\n",
        "    loss = loss_fn(out, y)\n",
        "    loss.backward()\n",
        "    optimizer.step()\n",
        "    \n",
        "    # Display status every 100 epochs.\n",
        "    if epoch % 100 == 0:\n",
        "        print(f\"Epoch {epoch}, loss: {loss.item()}\")"
      ],
      "metadata": {
        "colab": {
          "base_uri": "https://localhost:8080/"
        },
        "id": "XapHMWRrFKfJ",
        "outputId": "fe5ddd19-ee63-4cf0-fbfc-bd0bf6630d5a"
      },
      "execution_count": null,
      "outputs": [
        {
          "output_type": "stream",
          "name": "stdout",
          "text": [
            "Epoch 0, loss: 3111.463134765625\n",
            "Epoch 100, loss: 173.5727081298828\n",
            "Epoch 200, loss: 160.85494995117188\n",
            "Epoch 300, loss: 129.32286071777344\n",
            "Epoch 400, loss: 62.0753173828125\n",
            "Epoch 500, loss: 32.7085075378418\n",
            "Epoch 600, loss: 24.952167510986328\n",
            "Epoch 700, loss: 19.35078239440918\n",
            "Epoch 800, loss: 15.175905227661133\n",
            "Epoch 900, loss: 12.565629959106445\n"
          ]
        }
      ]
    },
    {
      "cell_type": "markdown",
      "source": [
        "We now loop over 1,000 epochs and train the neural network; we define an epoch as one complete pass over the training set. We zero the gradients, so training from the previous epoch does not influence the current epoch. We present the entire training set to the model as one large batch. Later we will see more advanced ways to segment the data. We apply the loss function and use backpropagation to calculate the gradients to update the neural network weights.\n",
        "\n",
        "## Introduction to Neural Network Hyperparameters\n",
        "\n",
        "This network includes several hidden layers, with 50 and 25 neurons each. You might be wondering how the programmer chose these numbers. Selecting a hidden neuron structure is one of the most common questions about neural networks. Unfortunately, there is no right answer. These are hyperparameters. They are settings that can affect neural network performance, yet there are no clearly defined means of setting them.\n",
        "\n",
        "In general, more hidden neurons mean more capability to fit complex problems. However, too many neurons can lead to overfitting and lengthy training times. Too few can lead to underfitting the problem and will sacrifice accuracy. Also, how many layers you have is another hyperparameter. In general, more layers allow the neural network to perform more of its feature engineering and data preprocessing. But this also comes at the expense of training times and the risk of overfitting. In general, you will see that neuron counts start larger near the input layer and tend to shrink towards the output layer in a triangular fashion. \n",
        "\n",
        "Some techniques use machine learning to optimize these values. These will be discussed in [Module 8.3](t81_558_class_08_3_pytorch_hyperparameters.ipynb).\n",
        "\n",
        "## Regression Prediction\n",
        "\n",
        "Next, we will perform actual predictions. The program assigns these predictions to the **pred** variable. These are all MPG predictions from the neural network. Notice that this is a 2D array? You can always see the dimensions of what PyTorch returns by printing out **pred.shape**. Neural networks can return multiple values, so the result is always an array. Here the neural network only returns one value per prediction (there are 398 cars, so 398 predictions). However, a 2D range is needed because the neural network has the potential of returning more than one value.  "
      ],
      "metadata": {
        "id": "fqUK73GtE5jU"
      }
    },
    {
      "cell_type": "code",
      "execution_count": null,
      "metadata": {
        "colab": {
          "base_uri": "https://localhost:8080/"
        },
        "id": "HbErLyX_CtiR",
        "outputId": "1bc33243-cd27-425a-f8fd-3bea36755d20"
      },
      "outputs": [
        {
          "output_type": "stream",
          "name": "stdout",
          "text": [
            "Shape: torch.Size([398, 1])\n",
            "tensor([[15.4903],\n",
            "        [14.4616],\n",
            "        [15.1998],\n",
            "        [15.5156],\n",
            "        [15.2873],\n",
            "        [12.1288],\n",
            "        [11.5590],\n",
            "        [11.6946],\n",
            "        [11.5800],\n",
            "        [13.1113]], device='cuda:0', grad_fn=<SliceBackward0>)\n"
          ]
        }
      ],
      "source": [
        "pred = model(x)\n",
        "print(f\"Shape: {pred.shape}\")\n",
        "print(pred[0:10])"
      ]
    },
    {
      "cell_type": "markdown",
      "metadata": {
        "id": "jk_lWnScCtiR"
      },
      "source": [
        "We would like to see how good these predictions are.  We know the correct MPG for each car so we can measure how close the neural network was. We will first see how we calculate RMSE with standard Sklearn metrics. To utilize Sklearn we must bring the predictions back to the CPU and deatch them from the neural network graph. The following code accomplishes this with **cpu().detach()**.  "
      ]
    },
    {
      "cell_type": "code",
      "execution_count": null,
      "metadata": {
        "colab": {
          "base_uri": "https://localhost:8080/"
        },
        "id": "vrY0Vs9oCtiR",
        "outputId": "b11a1a05-0f83-4445-effc-161e25258219"
      },
      "outputs": [
        {
          "output_type": "stream",
          "name": "stdout",
          "text": [
            "Final score (RMSE): 3.3309502601623535\n"
          ]
        }
      ],
      "source": [
        "from sklearn import metrics\n",
        "\n",
        "# Measure RMSE error.  RMSE is common for regression.\n",
        "score = np.sqrt(metrics.mean_squared_error(pred.cpu().detach(),\n",
        "  y.cpu().detach()))\n",
        "print(f\"Final score (RMSE): {score}\")"
      ]
    },
    {
      "cell_type": "markdown",
      "source": [
        "We can accomplish the same task entirely within PyTorch with less code. It is important to know how to perform these calculations both with PyTorch and Scikit-learn."
      ],
      "metadata": {
        "id": "WkLxHFUmMcD7"
      }
    },
    {
      "cell_type": "code",
      "source": [
        "score = torch.sqrt(torch.nn.functional.mse_loss(pred.flatten(),y))\n",
        "print(f\"Final score (RMSE): {score}\")"
      ],
      "metadata": {
        "colab": {
          "base_uri": "https://localhost:8080/"
        },
        "id": "atZ8m2bGMnz9",
        "outputId": "99f1a9ea-e944-4ba0-fde9-a91d9852f632"
      },
      "execution_count": null,
      "outputs": [
        {
          "output_type": "stream",
          "name": "stdout",
          "text": [
            "Final score (RMSE): 3.3309502601623535\n"
          ]
        }
      ]
    },
    {
      "cell_type": "markdown",
      "metadata": {
        "id": "i3yqZwhnCtiS"
      },
      "source": [
        "The number printed above is the average number of predictions above or below the expected output. We can also print out the first ten cars with predictions and actual MPG."
      ]
    },
    {
      "cell_type": "code",
      "execution_count": null,
      "metadata": {
        "colab": {
          "base_uri": "https://localhost:8080/"
        },
        "id": "Tl7hv8NnCtiS",
        "outputId": "4c4381d1-caad-4b26-ef37-38cfe54451be"
      },
      "outputs": [
        {
          "output_type": "stream",
          "name": "stdout",
          "text": [
            "1. Car name: chevrolet chevelle malibu, MPG: 18.0, predicted MPG: tensor([15.4903], device='cuda:0', grad_fn=<SelectBackward0>)\n",
            "2. Car name: buick skylark 320, MPG: 15.0, predicted MPG: tensor([14.4616], device='cuda:0', grad_fn=<SelectBackward0>)\n",
            "3. Car name: plymouth satellite, MPG: 18.0, predicted MPG: tensor([15.1998], device='cuda:0', grad_fn=<SelectBackward0>)\n",
            "4. Car name: amc rebel sst, MPG: 16.0, predicted MPG: tensor([15.5156], device='cuda:0', grad_fn=<SelectBackward0>)\n",
            "5. Car name: ford torino, MPG: 17.0, predicted MPG: tensor([15.2873], device='cuda:0', grad_fn=<SelectBackward0>)\n",
            "6. Car name: ford galaxie 500, MPG: 15.0, predicted MPG: tensor([12.1288], device='cuda:0', grad_fn=<SelectBackward0>)\n",
            "7. Car name: chevrolet impala, MPG: 14.0, predicted MPG: tensor([11.5590], device='cuda:0', grad_fn=<SelectBackward0>)\n",
            "8. Car name: plymouth fury iii, MPG: 14.0, predicted MPG: tensor([11.6946], device='cuda:0', grad_fn=<SelectBackward0>)\n",
            "9. Car name: pontiac catalina, MPG: 14.0, predicted MPG: tensor([11.5800], device='cuda:0', grad_fn=<SelectBackward0>)\n",
            "10. Car name: amc ambassador dpl, MPG: 15.0, predicted MPG: tensor([13.1113], device='cuda:0', grad_fn=<SelectBackward0>)\n"
          ]
        }
      ],
      "source": [
        "# Sample predictions\n",
        "for i in range(10):\n",
        "    print(f\"{i+1}. Car name: {cars[i]}, MPG: {y[i]}, \" \n",
        "          + f\"predicted MPG: {pred[i]}\")"
      ]
    },
    {
      "cell_type": "markdown",
      "metadata": {
        "id": "U_dpgVtfCtiS"
      },
      "source": [
        "## Simple TensorFlow Classification: Iris\n",
        "\n",
        "Classification is how a neural network attempts to classify the input into one or more classes.  The simplest way of evaluating a classification network is to track the percentage of training set items classified incorrectly.  We typically score human results in this manner.  For example, you might have taken multiple-choice exams in school in which you had to shade in a bubble for choices A, B, C, or D.  If you chose the wrong letter on a 10-question exam, you would earn a 90%.  In the same way, we can grade computers; however, most classification algorithms do not merely choose A, B, C, or D.  Computers typically report a classification as their percent confidence in each class.  Figure 3.EXAM shows how a computer and a human might respond to question number 1 on an exam.\n",
        "\n",
        "**Figure 3.EXAM: Classification Neural Network Output**\n",
        "![Classification Neural Network Output](images/class-multi-choice.png \"Classification Neural Network Output\")\n",
        "\n",
        "As you can see, the human test taker marked the first question as \"B.\" However, the computer test taker had an 80% (0.8) confidence in \"B\" and was also somewhat sure with 10% (0.1) on \"A.\" The computer then distributed the remaining points to the other two.  In the simplest sense, the machine would get 80% of the score for this question if the correct answer were \"B.\" The computer would get only 5% (0.05) of the points if the correct answer were \"D.\" \n",
        "\n",
        "We previously saw how to train a neural network to predict the MPG of a card. Based on four measurements, we will now see how to predict a class, such as the type of iris flower. The code to classify iris flowers is similar to MPG; however, there are several important differences:\n",
        "\n",
        "* The output neuron count matches the number of classes (in the case of Iris, 3).\n",
        "* The **Softmax** transfer function is utilized by the output layer.\n",
        "* The loss function is **CrossEntropyLoss**.\n",
        "* We call the **train** function to inform PyTorch that we are now in training mode.\n",
        "* Later, we call the **eval** function to inform PyTorch that we are done training and are evaluating the network.\n",
        " \n",
        "\n"
      ]
    },
    {
      "cell_type": "code",
      "execution_count": null,
      "metadata": {
        "colab": {
          "base_uri": "https://localhost:8080/"
        },
        "id": "aLp65T9JCtiS",
        "outputId": "733753a9-fa83-40cb-fb84-1005c21ffd3a"
      },
      "outputs": [
        {
          "output_type": "stream",
          "name": "stdout",
          "text": [
            "Epoch 0, loss: 1.0974665880203247\n",
            "Epoch 100, loss: 0.5711843967437744\n",
            "Epoch 200, loss: 0.5718634128570557\n",
            "Epoch 300, loss: 0.5669658184051514\n",
            "Epoch 400, loss: 0.5700342059135437\n",
            "Epoch 500, loss: 0.5655820965766907\n",
            "Epoch 600, loss: 0.5647715926170349\n",
            "Epoch 700, loss: 0.5658202767372131\n",
            "Epoch 800, loss: 0.5633681416511536\n",
            "Epoch 900, loss: 0.5920408964157104\n"
          ]
        }
      ],
      "source": [
        "import pandas as pd\n",
        "from sklearn.model_selection import train_test_split\n",
        "from sklearn.metrics import accuracy_score\n",
        "\n",
        "import torch\n",
        "import torch.nn as nn\n",
        "import torch.nn.functional as F\n",
        "import numpy as np\n",
        "from torch.autograd import Variable\n",
        "from sklearn import preprocessing\n",
        "\n",
        "\n",
        "class Net(nn.Module):\n",
        "    def __init__(self, in_count, out_count):\n",
        "        super(Net, self).__init__()\n",
        "        self.fc1 = nn.Linear(in_count, 50)\n",
        "        self.fc2 = nn.Linear(50, 25)\n",
        "        self.fc3 = nn.Linear(25, out_count)\n",
        "        self.softmax = nn.Softmax(dim=1)\n",
        "\n",
        "    def forward(self, x):\n",
        "        x = F.relu(self.fc1(x))\n",
        "        x = F.relu(self.fc2(x))\n",
        "        return self.softmax(self.fc3(x))\n",
        "\n",
        "df = pd.read_csv(\n",
        "    \"https://data.heatonresearch.com/data/t81-558/iris.csv\", \n",
        "    na_values=['NA', '?'])\n",
        "\n",
        "le = preprocessing.LabelEncoder()\n",
        "\n",
        "x = df[['sepal_l', 'sepal_w', 'petal_l', 'petal_w']].values\n",
        "y = le.fit_transform(df['species'])\n",
        "species = le.classes_\n",
        "\n",
        "x = torch.tensor(x,device=device,dtype=torch.float32)\n",
        "y = torch.tensor(y,device=device,dtype=torch.long)\n",
        "\n",
        "model = Net(x.shape[1],len(species)).to(device)\n",
        "\n",
        "criterion = nn.CrossEntropyLoss()# cross entropy loss\n",
        "\n",
        "optimizer = torch.optim.Adam(model.parameters(), lr=0.01)\n",
        "\n",
        "model.train()\n",
        "for epoch in range(1000):\n",
        "    optimizer.zero_grad()\n",
        "    out = model(x)\n",
        "    loss = criterion(out, y)\n",
        "    loss.backward()\n",
        "    optimizer.step()\n",
        "    \n",
        "    if epoch % 100 == 0:\n",
        "        print(f\"Epoch {epoch}, loss: {loss.item()}\")"
      ]
    },
    {
      "cell_type": "code",
      "execution_count": null,
      "metadata": {
        "colab": {
          "base_uri": "https://localhost:8080/"
        },
        "id": "QPM30WdBCtiS",
        "outputId": "2124ae9b-9dea-4665-9ff2-c83f90a270f9"
      },
      "outputs": [
        {
          "output_type": "stream",
          "name": "stdout",
          "text": [
            "['Iris-setosa' 'Iris-versicolor' 'Iris-virginica']\n"
          ]
        }
      ],
      "source": [
        "# Print out number of species found:\n",
        "\n",
        "print(species)"
      ]
    },
    {
      "cell_type": "markdown",
      "metadata": {
        "id": "dM8-xyDxCtiS"
      },
      "source": [
        "Now that you have a neural network trained, we would like to be able to use it. The following code makes use of our neural network. Exactly like before, we will generate predictions. Notice that three values come back for each of the 150 iris flowers. There were three types of iris (Iris-setosa, Iris-versicolor, and Iris-virginica). We call the **eval** function to inform PyTorch that we are no longer training and wish to evaluate."
      ]
    },
    {
      "cell_type": "code",
      "execution_count": null,
      "metadata": {
        "colab": {
          "base_uri": "https://localhost:8080/"
        },
        "id": "3YzlVpw-CtiS",
        "outputId": "97a8b364-e6f3-4547-cbea-a8fb71703727"
      },
      "outputs": [
        {
          "output_type": "stream",
          "name": "stdout",
          "text": [
            "Shape: torch.Size([150, 3])\n",
            "tensor([[9.9999e-01, 9.8977e-06, 1.1547e-25],\n",
            "        [9.9996e-01, 4.0774e-05, 1.3416e-23],\n",
            "        [9.9998e-01, 2.2806e-05, 4.5773e-24],\n",
            "        [9.9994e-01, 6.1188e-05, 8.3578e-23],\n",
            "        [9.9999e-01, 9.3713e-06, 1.0330e-25],\n",
            "        [9.9999e-01, 1.3275e-05, 8.8589e-26],\n",
            "        [9.9997e-01, 3.1867e-05, 1.1711e-23],\n",
            "        [9.9998e-01, 1.9099e-05, 9.3498e-25],\n",
            "        [9.9991e-01, 8.8229e-05, 4.9851e-22],\n",
            "        [9.9997e-01, 3.2031e-05, 5.4512e-24]], device='cuda:0',\n",
            "       grad_fn=<SliceBackward0>)\n"
          ]
        }
      ],
      "source": [
        "model.eval()\n",
        "pred = model(x)\n",
        "print(f\"Shape: {pred.shape}\")\n",
        "print(pred[0:10])"
      ]
    },
    {
      "cell_type": "markdown",
      "metadata": {
        "id": "JCay-JrvCtiS"
      },
      "source": [
        "If you would like to turn of scientific notation, the following line can be used:"
      ]
    },
    {
      "cell_type": "code",
      "execution_count": null,
      "metadata": {
        "id": "nXZne7ZICtiS"
      },
      "outputs": [],
      "source": [
        "np.set_printoptions(suppress=True)"
      ]
    },
    {
      "cell_type": "markdown",
      "metadata": {
        "id": "nOvMqI7QCtiS"
      },
      "source": [
        "Now we see these values rounded up."
      ]
    },
    {
      "cell_type": "code",
      "execution_count": null,
      "metadata": {
        "colab": {
          "base_uri": "https://localhost:8080/"
        },
        "id": "F9PSDexjCtiS",
        "outputId": "dea120bd-7e5f-4b0f-b030-d1ad0cff3489"
      },
      "outputs": [
        {
          "output_type": "stream",
          "name": "stdout",
          "text": [
            "[[0.9999901  0.0000099  0.        ]\n",
            " [0.99995923 0.00004077 0.        ]\n",
            " [0.99997723 0.00002281 0.        ]\n",
            " [0.99993885 0.00006119 0.        ]\n",
            " [0.9999906  0.00000937 0.        ]\n",
            " [0.99998677 0.00001328 0.        ]\n",
            " [0.9999682  0.00003187 0.        ]\n",
            " [0.9999809  0.0000191  0.        ]\n",
            " [0.9999118  0.00008823 0.        ]\n",
            " [0.99996793 0.00003203 0.        ]]\n"
          ]
        }
      ],
      "source": [
        "print(pred[0:10].cpu().detach().numpy())"
      ]
    },
    {
      "cell_type": "markdown",
      "metadata": {
        "id": "qDC7hxqECtiS"
      },
      "source": [
        "Usually, the program considers the column with the highest prediction to be the prediction of the neural network.  It is easy to convert the predictions to the expected iris species.  The argmax function finds the index of the maximum prediction for each row."
      ]
    },
    {
      "cell_type": "code",
      "execution_count": null,
      "metadata": {
        "colab": {
          "base_uri": "https://localhost:8080/"
        },
        "id": "367mbx_PCtiT",
        "outputId": "e2ced924-bd9c-49b4-83f2-ef704615c89d"
      },
      "outputs": [
        {
          "output_type": "stream",
          "name": "stdout",
          "text": [
            "Predictions: tensor([0, 0, 0, 0, 0, 0, 0, 0, 0, 0, 0, 0, 0, 0, 0, 0, 0, 0, 0, 0, 0, 0, 0, 0,\n",
            "        0, 0, 0, 0, 0, 0, 0, 0, 0, 0, 0, 0, 0, 0, 0, 0, 0, 0, 0, 0, 0, 0, 0, 0,\n",
            "        0, 0, 1, 1, 1, 1, 1, 1, 1, 1, 1, 1, 1, 1, 1, 1, 1, 1, 1, 1, 1, 1, 1, 1,\n",
            "        1, 1, 1, 1, 1, 1, 1, 1, 1, 1, 1, 2, 1, 1, 1, 1, 1, 1, 1, 1, 1, 1, 1, 1,\n",
            "        1, 1, 1, 1, 2, 2, 2, 2, 2, 2, 2, 2, 2, 2, 2, 2, 2, 2, 2, 2, 2, 2, 2, 2,\n",
            "        2, 2, 2, 2, 2, 2, 2, 2, 2, 2, 2, 2, 2, 2, 2, 2, 2, 2, 2, 2, 2, 2, 2, 2,\n",
            "        2, 2, 2, 2, 2, 2], device='cuda:0')\n",
            "Expected: tensor([0, 0, 0, 0, 0, 0, 0, 0, 0, 0, 0, 0, 0, 0, 0, 0, 0, 0, 0, 0, 0, 0, 0, 0,\n",
            "        0, 0, 0, 0, 0, 0, 0, 0, 0, 0, 0, 0, 0, 0, 0, 0, 0, 0, 0, 0, 0, 0, 0, 0,\n",
            "        0, 0, 1, 1, 1, 1, 1, 1, 1, 1, 1, 1, 1, 1, 1, 1, 1, 1, 1, 1, 1, 1, 1, 1,\n",
            "        1, 1, 1, 1, 1, 1, 1, 1, 1, 1, 1, 1, 1, 1, 1, 1, 1, 1, 1, 1, 1, 1, 1, 1,\n",
            "        1, 1, 1, 1, 2, 2, 2, 2, 2, 2, 2, 2, 2, 2, 2, 2, 2, 2, 2, 2, 2, 2, 2, 2,\n",
            "        2, 2, 2, 2, 2, 2, 2, 2, 2, 2, 2, 2, 2, 2, 2, 2, 2, 2, 2, 2, 2, 2, 2, 2,\n",
            "        2, 2, 2, 2, 2, 2], device='cuda:0')\n"
          ]
        }
      ],
      "source": [
        "_, predict_classes = torch.max(pred, 1)\n",
        "print(f\"Predictions: {predict_classes}\")\n",
        "print(f\"Expected: {y}\")"
      ]
    },
    {
      "cell_type": "markdown",
      "metadata": {
        "id": "lrcy0Q4xCtiT"
      },
      "source": [
        "Of course, it is straightforward to turn these indexes back into iris species. We use the species list that we created earlier."
      ]
    },
    {
      "cell_type": "code",
      "execution_count": null,
      "metadata": {
        "colab": {
          "base_uri": "https://localhost:8080/"
        },
        "id": "NTORTvygCtiT",
        "outputId": "a98c94b2-8d8c-4d02-d812-455f7f509932"
      },
      "outputs": [
        {
          "output_type": "stream",
          "name": "stdout",
          "text": [
            "['Iris-setosa' 'Iris-setosa' 'Iris-setosa' 'Iris-setosa' 'Iris-setosa'\n",
            " 'Iris-setosa' 'Iris-setosa' 'Iris-setosa' 'Iris-setosa']\n"
          ]
        }
      ],
      "source": [
        "print(species[predict_classes[1:10].cpu().detach()])"
      ]
    },
    {
      "cell_type": "markdown",
      "metadata": {
        "id": "Ljez1ZRACtiT"
      },
      "source": [
        "Accuracy might be a more easily understood error metric.  It is essentially a test score.  For all of the iris predictions, what percent were correct?  The downside is it does not consider how confident the neural network was in each prediction."
      ]
    },
    {
      "cell_type": "code",
      "execution_count": null,
      "metadata": {
        "colab": {
          "base_uri": "https://localhost:8080/"
        },
        "id": "zth2S2OcCtiT",
        "outputId": "08972c25-caab-46e8-f82f-8dae9a1ed22a"
      },
      "outputs": [
        {
          "output_type": "stream",
          "name": "stdout",
          "text": [
            "Accuracy: 0.9933333333333333\n"
          ]
        }
      ],
      "source": [
        "from sklearn.metrics import accuracy_score\n",
        "\n",
        "correct = accuracy_score(y.cpu().detach(),predict_classes.cpu().detach())\n",
        "print(f\"Accuracy: {correct}\")"
      ]
    },
    {
      "cell_type": "markdown",
      "metadata": {
        "id": "jY07aiLICtiT"
      },
      "source": [
        "The code below performs two ad hoc predictions.  The first prediction is a single iris flower, and the second predicts two iris flowers.  Notice that the **argmax** in the second prediction requires **axis=1**?  Since we have a 2D array now, we must specify which axis to take the **argmax** over.  The value **axis=1** specifies we want the max column index for each row."
      ]
    },
    {
      "cell_type": "code",
      "execution_count": null,
      "metadata": {
        "colab": {
          "base_uri": "https://localhost:8080/"
        },
        "id": "FZUSWVGnCtiT",
        "outputId": "fe725dfb-dbf8-451f-899f-929372f11f99"
      },
      "outputs": [
        {
          "output_type": "stream",
          "name": "stdout",
          "text": [
            "tensor([[2.8780e-07, 9.8400e-01, 1.6003e-02]], device='cuda:0',\n",
            "       grad_fn=<SoftmaxBackward0>)\n",
            "Predict that tensor([[5., 3., 4., 2.]], device='cuda:0') is: Iris-versicolor\n"
          ]
        }
      ],
      "source": [
        "sample_flower = torch.tensor( [[5.0,3.0,4.0,2.0]],device=device)\n",
        "pred = model(sample_flower)\n",
        "print(pred)\n",
        "_, predict_classes = torch.max(pred, 1)\n",
        "print(f\"Predict that {sample_flower} is: {species[predict_classes]}\")"
      ]
    },
    {
      "cell_type": "markdown",
      "metadata": {
        "id": "ENSZaaRICtiT"
      },
      "source": [
        "You can also predict two sample flowers."
      ]
    },
    {
      "cell_type": "code",
      "execution_count": null,
      "metadata": {
        "colab": {
          "base_uri": "https://localhost:8080/"
        },
        "id": "fdSSkkmwCtiT",
        "outputId": "d6abb6e9-2b82-43eb-b1a2-eb56d790f5aa"
      },
      "outputs": [
        {
          "output_type": "stream",
          "name": "stdout",
          "text": [
            "tensor([[2.8780e-07, 9.8400e-01, 1.6003e-02],\n",
            "        [9.9989e-01, 1.0766e-04, 5.8500e-23]], device='cuda:0',\n",
            "       grad_fn=<SoftmaxBackward0>)\n",
            "Predict that these two flowers tensor([[5.0000, 3.0000, 4.0000, 2.0000],\n",
            "        [5.2000, 3.5000, 1.5000, 0.8000]], device='cuda:0') \n",
            "are: ['Iris-versicolor' 'Iris-setosa']\n"
          ]
        }
      ],
      "source": [
        "sample_flower = torch.tensor( [[5.0,3.0,4.0,2.0],[5.2,3.5,1.5,0.8]],\n",
        "    device=device)\n",
        "pred = model(sample_flower).to(device)\n",
        "print(pred)\n",
        "_, predict_classes = torch.max(pred, 1)\n",
        "print(f\"Predict that these two flowers {sample_flower} \")\n",
        "print(f\"are: {species[predict_classes.cpu().detach()]}\")"
      ]
    }
  ],
  "metadata": {
    "anaconda-cloud": {},
    "colab": {
      "collapsed_sections": [],
      "name": "newf t81_558_class_03_2_pytorch.ipynb",
      "provenance": []
    },
    "kernelspec": {
      "display_name": "Python 3.9 (tensorflow)",
      "language": "python",
      "name": "tensorflow"
    },
    "language_info": {
      "codemirror_mode": {
        "name": "ipython",
        "version": 3
      },
      "file_extension": ".py",
      "mimetype": "text/x-python",
      "name": "python",
      "nbconvert_exporter": "python",
      "pygments_lexer": "ipython3",
      "version": "3.9.7"
    },
    "varInspector": {
      "cols": {
        "lenName": 16,
        "lenType": 16,
        "lenVar": 40
      },
      "kernels_config": {
        "python": {
          "delete_cmd_postfix": "",
          "delete_cmd_prefix": "del ",
          "library": "var_list.py",
          "varRefreshCmd": "print(var_dic_list())"
        },
        "r": {
          "delete_cmd_postfix": ") ",
          "delete_cmd_prefix": "rm(",
          "library": "var_list.r",
          "varRefreshCmd": "cat(var_dic_list()) "
        }
      },
      "types_to_exclude": [
        "module",
        "function",
        "builtin_function_or_method",
        "instance",
        "_Feature"
      ],
      "window_display": false
    },
    "gpuClass": "standard",
    "accelerator": "GPU"
  },
  "nbformat": 4,
  "nbformat_minor": 0
}