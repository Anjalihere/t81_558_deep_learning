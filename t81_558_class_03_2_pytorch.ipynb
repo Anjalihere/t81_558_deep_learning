{
  "cells": [
    {
      "cell_type": "markdown",
      "metadata": {
        "id": "bLEEW13uCtiJ"
      },
      "source": [
        "<a href=\"https://colab.research.google.com/github/jeffheaton/t81_558_deep_learning/blob/pytorch/t81_558_class_03_2_pytorch.ipynb\" target=\"_parent\"><img src=\"https://colab.research.google.com/assets/colab-badge.svg\" alt=\"Open In Colab\"/></a>"
      ]
    },
    {
      "cell_type": "markdown",
      "metadata": {
        "id": "5oX6K_-JCtiL"
      },
      "source": [
        "# T81-558: Applications of Deep Neural Networks\n",
        "**Module 3: Introduction to PyTorch**\n",
        "* Instructor: [Jeff Heaton](https://sites.wustl.edu/jeffheaton/), McKelvey School of Engineering, [Washington University in St. Louis](https://engineering.wustl.edu/Programs/Pages/default.aspx)\n",
        "* For more information visit the [class website](https://sites.wustl.edu/jeffheaton/t81-558/)."
      ]
    },
    {
      "cell_type": "markdown",
      "metadata": {
        "id": "FzlMdsudCtiL"
      },
      "source": [
        "# Module 3 Material\n",
        "\n",
        "* Part 3.1: Deep Learning and Neural Network Introduction [[Video]](https://www.youtube.com/watch?v=zYnI4iWRmpc&list=PLjy4p-07OYzulelvJ5KVaT2pDlxivl_BN) [[Notebook]](t81_558_class_03_1_neural_net.ipynb)\n",
        "* **Part 3.2: Introduction to Tensorflow and PyTorch** [[Video]](https://www.youtube.com/watch?v=PsE73jk55cE&list=PLjy4p-07OYzulelvJ5KVaT2pDlxivl_BN) [[Notebook]](t81_558_class_03_2_pytorch.ipynb)\n",
        "* Part 3.3: Saving and Loading a PyTorch Neural Network [[Video]](https://www.youtube.com/watch?v=-9QfbGM1qGw&list=PLjy4p-07OYzulelvJ5KVaT2pDlxivl_BN) [[Notebook]](t81_558_class_03_3_save_load.ipynb)\n",
        "* Part 3.4: Early Stopping in PyTorch to Prevent Overfitting [[Video]](https://www.youtube.com/watch?v=m1LNunuI2fk&list=PLjy4p-07OYzulelvJ5KVaT2pDlxivl_BN) [[Notebook]](t81_558_class_03_4_early_stop.ipynb)\n",
        "* Part 3.5: Extracting Weights and Manual Calculation [[Video]](https://www.youtube.com/watch?v=7PWgx16kH8s&list=PLjy4p-07OYzulelvJ5KVaT2pDlxivl_BN) [[Notebook]](t81_558_class_03_5_weights.ipynb)"
      ]
    },
    {
      "cell_type": "markdown",
      "metadata": {
        "id": "CpVJpj2DCtiM"
      },
      "source": [
        "# Google CoLab Instructions\n",
        "\n",
        "The following code ensures that Google CoLab is running and maps Google Drive if needed."
      ]
    },
    {
      "cell_type": "code",
      "execution_count": 1,
      "metadata": {
        "colab": {
          "base_uri": "https://localhost:8080/"
        },
        "id": "wU1AMzx8CtiM",
        "outputId": "235b5c37-a6be-4d12-d86e-3d043e245347"
      },
      "outputs": [
        {
          "output_type": "stream",
          "name": "stdout",
          "text": [
            "Note: using Google CoLab\n"
          ]
        }
      ],
      "source": [
        "try:\n",
        "    COLAB = True\n",
        "    print(\"Note: using Google CoLab\")\n",
        "except:\n",
        "    print(\"Note: not using Google CoLab\")\n",
        "    COLAB = False"
      ]
    },
    {
      "cell_type": "markdown",
      "metadata": {
        "id": "1Zg-zNx0CtiN"
      },
      "source": [
        "# Part 3.2: Introduction to PyTorch\n",
        "\n",
        "PyTorch [[Cite:paszke2019pytorch]](https://arxiv.org/abs/1912.01703) is an open-source software library for machine learning in various kinds of perceptual and language understanding tasks. It is currently used for research and production by different teams at [Meta Platforms](https://about.facebook.com/). Companies have built several pieces of deep learning software on top of PyTorch, including Tesla Autopilot, Uber's Pyro, Hugging Face's Transformers, PyTorch Lightning, and Catalyst. PyTorch provides two high-level features: NumPy-like tensor computing and deep neural networks.\n",
        "\n",
        "* [PyTorch Homepage](https://pytorch.org/)\n",
        "* [PyTorch GitHib](https://github.com/pytorch/pytorch)\n",
        "* [PyTorch Forums](https://discuss.pytorch.org/)\n",
        "\n",
        "## Why PyTorch\n",
        "\n",
        "* Supported by Meta\n",
        "* Works well on Windows, Linux, and Mac\n",
        "* Excellent GPU support\n",
        "* Python is an easy to learn programming language\n",
        "* Python is extremely popular in the data science community\n",
        "\n",
        "## Deep Learning Tools\n",
        "PyTorch is not the only game in town. The biggest competitor to PyTorch is TensorFlow/Keras. Listed below are some of the deep learning toolkits actively being supported:\n",
        "\n",
        "* **[TensorFlow](https://www.tensorflow.org/)** - Google's deep learning API.  The focus of this class, along with Keras.\n",
        "* **[Keras](https://keras.io/)** - Acts as a higher-level to Tensorflow.\n",
        "* **[PyTorch](https://pytorch.org/)** - PyTorch is an open-source machine learning library based on the Torch library, used for computer vision and natural language applications processing. Facebook's AI Research lab primarily develops PyTorch. \n",
        "\n",
        "Other deep learning tools:\n",
        "\n",
        "* **[Deeplearning4J](http://deeplearning4j.org/)** - Java-based. Supports all major platforms. GPU support in Java!\n",
        "* **[H2O](http://www.h2o.ai/)** - Java-based.  \n",
        "\n",
        "In my opinion, the two primary Python libraries for deep learning are PyTorch and Keras. Generally, PyTorch requires more lines of code to perform the deep learning applications presented in this course. This trait of PyTorch gives Keras an easier learning curve than PyTorch. However, if you are creating entirely new neural network structures in a research setting, PyTorch can make for easier access to some of the low-level internals of deep learning.\n",
        "\n",
        "## Using PyTorch Directly\n",
        "\n",
        "PyTorch is also a low-level mathematics API, similar to [NumPy](http://www.numpy.org/). However, unlike Numpy, PyTorch is built for deep learning. PyTorch compiles these compute graphs into highly efficient C++/[CUDA](https://en.wikipedia.org/wiki/CUDA) code.\n",
        "\n",
        "## PyTorch Linear Algebra Examples\n",
        "\n",
        "PyTorch is a library for linear algebra, other components of PyTorch are a higher-level abstraction for neural networks that you build upon the lower level linear algebra. In this section, I will demonstrate some basic linear algebra that directly employs PyTorch and does not implement a neural network. First, we will see how to multiply a row and column matrix."
      ]
    },
    {
      "cell_type": "code",
      "execution_count": 2,
      "metadata": {
        "colab": {
          "base_uri": "https://localhost:8080/"
        },
        "id": "bkh9pHqPCtiO",
        "outputId": "98002472-5234-4b2f-d810-0f662cb34aa1"
      },
      "outputs": [
        {
          "output_type": "stream",
          "name": "stdout",
          "text": [
            "tensor([[12.]])\n",
            "12.0\n"
          ]
        }
      ],
      "source": [
        "import torch\n",
        "\n",
        "# Create a Constant op that produces a 1x2 matrix.  The op is\n",
        "# added as a node to the default graph.\n",
        "#\n",
        "# The value returned by the constructor represents the output\n",
        "# of the Constant op.\n",
        "matrix1 = torch.Tensor([[3., 3.]])\n",
        "\n",
        "# Create another Constant that produces a 2x1 matrix.\n",
        "matrix2 = torch.Tensor([[2.],[2.]])\n",
        "\n",
        "# Create a Matmul op that takes 'matrix1' and 'matrix2' as inputs.\n",
        "# The returned value, 'product', represents the result of the matrix\n",
        "# multiplication.\n",
        "product = torch.mm(matrix1, matrix2)\n",
        "\n",
        "print(product)\n",
        "print(float(product))"
      ]
    },
    {
      "cell_type": "markdown",
      "metadata": {
        "id": "pMrXqwskCtiP"
      },
      "source": [
        "This example multiplied two PyTorch tensors.  Next, we will see how to subtract a constant from a variable."
      ]
    },
    {
      "cell_type": "code",
      "execution_count": 3,
      "metadata": {
        "colab": {
          "base_uri": "https://localhost:8080/"
        },
        "id": "qKyFCaoTCtiP",
        "outputId": "ab73c3c0-bde8-46d4-f333-b3d8cd12b764"
      },
      "outputs": [
        {
          "output_type": "stream",
          "name": "stdout",
          "text": [
            "tensor([-2., -1.])\n",
            "[-2. -1.]\n"
          ]
        }
      ],
      "source": [
        "import torch\n",
        "\n",
        "x = torch.Tensor([1.0, 2.0])\n",
        "a = torch.Tensor([3.0, 3.0])\n",
        "\n",
        "# Add an op to subtract 'a' from 'x'.  Run it and print the result\n",
        "sub = torch.subtract(x, a)\n",
        "print(sub)\n",
        "print(sub.numpy())\n",
        "# ==> [-2. -1.]"
      ]
    },
    {
      "cell_type": "markdown",
      "metadata": {
        "id": "epQ9LrM6CtiP"
      },
      "source": [
        "Of course, variables are only useful if their values can be changed.  The program can accomplish this change in value by calling the assign function."
      ]
    },
    {
      "cell_type": "code",
      "execution_count": 4,
      "metadata": {
        "id": "vtnW5aU-CtiP"
      },
      "outputs": [],
      "source": [
        "x[0] = 4.0\n",
        "x[1] = 6.0"
      ]
    },
    {
      "cell_type": "markdown",
      "metadata": {
        "id": "zHwJP8MjCtiQ"
      },
      "source": [
        "The program can now perform the subtraction with this new value."
      ]
    },
    {
      "cell_type": "code",
      "execution_count": 5,
      "metadata": {
        "colab": {
          "base_uri": "https://localhost:8080/"
        },
        "id": "0e26Fe-GCtiQ",
        "outputId": "93508d30-e51e-4996-af71-9c6d08662514"
      },
      "outputs": [
        {
          "output_type": "stream",
          "name": "stdout",
          "text": [
            "tensor([1., 3.])\n",
            "[1. 3.]\n"
          ]
        }
      ],
      "source": [
        "sub = torch.subtract(x, a)\n",
        "print(sub)\n",
        "print(sub.numpy())"
      ]
    },
    {
      "cell_type": "markdown",
      "metadata": {
        "id": "Rq61YFBYCtiQ"
      },
      "source": [
        "In the next section, we will see a PyTorch example that has nothing to do with neural networks."
      ]
    },
    {
      "cell_type": "markdown",
      "metadata": {
        "id": "iMVIS9pBCtiQ"
      },
      "source": [
        "## PyTorch Mandelbrot Set Example\n",
        "\n",
        "Next, we examine another example where we use PyTorch directly. To demonstrate that PyTorch is mathematical and does not only provide neural networks, we will also first use it for a non-machine learning rendering task. The code presented here can render a [Mandelbrot set](https://en.wikipedia.org/wiki/Mandelbrot_set). "
      ]
    },
    {
      "cell_type": "code",
      "source": [
        "import torch\n",
        "import numpy as np\n",
        "\n",
        "import PIL.Image\n",
        "from io import BytesIO\n",
        "from IPython.display import Image, display\n",
        "\n",
        "# Take a NumPy array and render it as a Mandlebrot.\n",
        "def render(a):\n",
        "  a_cyclic = (a*0.3).reshape(list(a.shape)+[1])\n",
        "  img = np.concatenate([10+20*np.cos(a_cyclic),\n",
        "                        30+50*np.sin(a_cyclic),\n",
        "                        155-80*np.cos(a_cyclic)], 2)\n",
        "  img[a==a.max()] = 0\n",
        "  a = img\n",
        "  a = np.uint8(np.clip(a, 0, 255))\n",
        "  f = BytesIO()\n",
        "  return PIL.Image.fromarray(a)\n",
        "\n",
        "# Loop through the render cycles for. Mandlebrot plot.\n",
        "def mandelbrot_helper(grid_c, current_values, counts,cycles):\n",
        "  for i in range(cycles):\n",
        "    # The Mandlebrot formula\n",
        "    temp = current_values*current_values + grid_c\n",
        "    not_diverged = torch.abs(temp) < 4\n",
        "    current_values.copy_(temp)\n",
        "    counts.copy_(torch.add(counts,not_diverged.double()))\n",
        "\n",
        "# Render a Mandlebrot plot at the specified location, zoom, and render cycles.\n",
        "def mandelbrot(render_size,center,zoom,cycles):\n",
        "  f = zoom/render_size[0]\n",
        "\n",
        "  real_start = center[1]-(render_size[1]/2)*f\n",
        "  real_end = real_start + render_size[1]*f \n",
        "  imag_start = center[0]-(render_size[0]/2)*f\n",
        "  imag_end = imag_start + render_size[0]*f \n",
        "\n",
        "  real_range = torch.arange(real_start,real_end,f,dtype=torch.float64)\n",
        "  imag_range = torch.arange(imag_start,imag_end,f,dtype=torch.float64)\n",
        "  real, imag = torch.meshgrid(real_range,imag_range)\n",
        "  grid_c = torch.complex(imag, real)\n",
        "  current_values = torch.clone(grid_c) \n",
        "  counts = torch.Tensor(torch.zeros_like(grid_c, dtype=torch.float32))\n",
        "\n",
        "  mandelbrot_helper(grid_c, current_values,counts,cycles)\n",
        "  return counts.numpy()"
      ],
      "metadata": {
        "id": "9rEFmqbXsfME"
      },
      "execution_count": 6,
      "outputs": []
    },
    {
      "cell_type": "markdown",
      "source": [
        "With the above code defined, we can now calculate and render a Mandlebrot plot."
      ],
      "metadata": {
        "id": "O77aOTEDrWRU"
      }
    },
    {
      "cell_type": "code",
      "source": [
        "counts = mandelbrot(\n",
        "    #render_size=(1920,1080), # HD\n",
        "    render_size=(640,480),\n",
        "    center=(-0.5,0),\n",
        "    zoom=4,\n",
        "    cycles=200\n",
        ")  \n",
        "\n",
        "img = render(counts)\n",
        "print(img.size)\n",
        "img"
      ],
      "metadata": {
        "colab": {
          "base_uri": "https://localhost:8080/",
          "height": 571
        },
        "id": "t3ZfV8A_p_5j",
        "outputId": "b0c03926-79cd-4ace-9930-9aee79001115"
      },
      "execution_count": 7,
      "outputs": [
        {
          "output_type": "stream",
          "name": "stderr",
          "text": [
            "/usr/local/lib/python3.7/dist-packages/torch/functional.py:568: UserWarning: torch.meshgrid: in an upcoming release, it will be required to pass the indexing argument. (Triggered internally at  ../aten/src/ATen/native/TensorShape.cpp:2228.)\n",
            "  return _VF.meshgrid(tensors, **kwargs)  # type: ignore[attr-defined]\n"
          ]
        },
        {
          "output_type": "stream",
          "name": "stdout",
          "text": [
            "(640, 480)\n"
          ]
        },
        {
          "output_type": "execute_result",
          "data": {
            "text/plain": [
              "<PIL.Image.Image image mode=RGB size=640x480 at 0x7F922D184850>"
            ],
            "image/png": "[encoded data removed]"
          },
          "metadata": {},
          "execution_count": 7
        }
      ]
    },
    {
      "cell_type": "markdown",
      "metadata": {
        "id": "ZeWypKgGCtiR"
      },
      "source": [
        "Mandlebrot rendering programs are both simple and infinitely complex at the same time. This view shows the entire Mandlebrot universe simultaneously, as a view completely zoomed out. However, if you zoom in on any non-black portion of the plot, you will find infinite hidden complexity. \n",
        "\n",
        "## Simple PyTorch Regression: MPG\n",
        "\n",
        "This example shows how to encode the MPG dataset for regression and predict values. We will see if we can predict the miles per gallon (MPG) for a car based on the car's weight, cylinders, engine size, and other features.\n"
      ]
    },
    {
      "cell_type": "code",
      "execution_count": 8,
      "metadata": {
        "id": "bmb3cFrUCtiR"
      },
      "outputs": [],
      "source": [
        "import pandas as pd\n",
        "from sklearn.model_selection import train_test_split\n",
        "from sklearn.metrics import accuracy_score\n",
        "\n",
        "import torch\n",
        "import torch.nn as nn\n",
        "import torch.nn.functional as F\n",
        "import numpy as np\n",
        "from torch.autograd import Variable\n",
        "from sklearn import preprocessing\n",
        "\n",
        "# You will create a network class for every PyTorch neural network you create.\n",
        "class Net(nn.Module):\n",
        "    def __init__(self, in_count, out_count):\n",
        "        super(Net, self).__init__()\n",
        "        # We must define each of the layers.\n",
        "        self.fc1 = nn.Linear(in_count, 50)\n",
        "        self.fc2 = nn.Linear(50, 25)\n",
        "        self.fc3 = nn.Linear(25, 1)\n",
        "\n",
        "    def forward(self, x):\n",
        "        # In the forward pass, we must calculate all of the layers we \n",
        "        # previously defined.\n",
        "        x = F.relu(self.fc1(x))\n",
        "        x = F.relu(self.fc2(x))\n",
        "        return self.fc3(x)\n",
        "\n",
        "\n",
        "\n"
      ]
    },
    {
      "cell_type": "markdown",
      "metadata": {
        "id": "82O2rvqiCtiR"
      },
      "source": [
        "You define your neural network in the **Net** class above. The class name does not matter; however, it must subclass **nn.Module** and implement both the **__init__** and **forward** methods. The **__init__** method defines the layers of the neural network. In this case, we have a neural network with an input layer equal to the number of inputs you specify from the MPG dataset. The neural network connects these inputs to 50 neurons in the first hidden layer, which are connected to 25 neurons in the second layer. The output neuron count for a layer must always match the input count of the next layer.\n",
        "\n",
        "The **forward** method links these layers together and also defines the transfer functions. For this book, we will generally always use the Relu activation function for hidden layers. The output layer will use no transfer function for a regression neural network like this MPG example. For classification, we use the logistic for binary classification (just two classes) or softmax for two or more classes.\n",
        "\n",
        "For the neural network to perform correctly, everything must align. The **__init__** method must specify all layers with the same number of outputs as inputs for each connection. Finally, the **forward** method must link all the layers together, in the correct order.\n",
        "\n",
        "We will begin by reading the MPG dataset. "
      ]
    },
    {
      "cell_type": "code",
      "source": [
        "# Read the MPG dataset.\n",
        "df = pd.read_csv(\n",
        "    \"https://data.heatonresearch.com/data/t81-558/auto-mpg.csv\", \n",
        "    na_values=['NA', '?'])\n",
        "\n",
        "cars = df['name']\n",
        "\n",
        "# Handle missing value\n",
        "df['horsepower'] = df['horsepower'].fillna(df['horsepower'].median())\n",
        "\n",
        "# Pandas to Numpy\n",
        "x = df[['cylinders', 'displacement', 'horsepower', 'weight',\n",
        "       'acceleration', 'year', 'origin']].values\n",
        "y = df['mpg'].values # regression\n",
        "\n",
        "# Numpy to PyTorch\n",
        "x = torch.Tensor(x).float()\n",
        "y = torch.Tensor(y).float()\n",
        "\n"
      ],
      "metadata": {
        "id": "szrd-36UE_ZA"
      },
      "execution_count": 9,
      "outputs": []
    },
    {
      "cell_type": "markdown",
      "source": [
        "We use Pandas to load the CSV file, as previously demonstrated. We will save the names of the cars, though the car names do not help predict the MPG. Horsepower does have missing values, so we substitute the median value for any missing values. Next, we convert Pandas to NumPy, and Numpy to PyTorch. We select only the fields that we wish to use to predict. As previously discussed, we designed the Net class to detect the size of this data and add the appropriate count of input neurons.\n",
        "\n",
        "We are ready to create the neural network, loss function, and optimizer class with the data loaded."
      ],
      "metadata": {
        "id": "Af0KuIwCFOMZ"
      }
    },
    {
      "cell_type": "code",
      "source": [
        "# Define the neural network\n",
        "model = Net(x.shape[1],1)\n",
        "\n",
        "# Define the loss function for regression\n",
        "criterion = nn.MSELoss()\n",
        "\n",
        "# Define the optimizer\n",
        "optimizer = torch.optim.Adam(model.parameters(), lr=0.01)\n",
        "\n"
      ],
      "metadata": {
        "id": "tY8-elD1FIsk"
      },
      "execution_count": 10,
      "outputs": []
    },
    {
      "cell_type": "markdown",
      "source": [
        "We create the neural network with one input equal to the number of columns in the x-input data. We specify one output neuron which will predict the MPG. Next, we define MSELoss as the error function, which is a common choice for regression. We will use the Adam optimizer with a learning rate of 0.01 to train the network. Adam is a common choice, and 0.01 is a good start for a learning rate. The learning rate should never be above 1.0. Too large of a learning rate will fail to learn the problem thoroughly, and too low of a learning rate will take a long time to train. We will see more advanced methods for choosing the learning rate, including schedules that change it throughout training.\n",
        "\n",
        "With the objects created, we can now train the neural network."
      ],
      "metadata": {
        "id": "41vdE4UqFO-p"
      }
    },
    {
      "cell_type": "code",
      "source": [
        "# Train for 1000 epochs.\n",
        "for epoch in range(1000):\n",
        "    optimizer.zero_grad()\n",
        "    out = model(x)\n",
        "    loss = criterion(out, y)\n",
        "    loss.backward()\n",
        "    optimizer.step()\n",
        "    \n",
        "    # Display status every 100 epochs.\n",
        "    if epoch % 100 == 0:\n",
        "        print(f\"Epoch {epoch}, loss: {loss.item()}\")"
      ],
      "metadata": {
        "colab": {
          "base_uri": "https://localhost:8080/"
        },
        "id": "XapHMWRrFKfJ",
        "outputId": "74946894-3ad3-4dd7-c07d-ca3aee495084"
      },
      "execution_count": 11,
      "outputs": [
        {
          "output_type": "stream",
          "name": "stderr",
          "text": [
            "/usr/local/lib/python3.7/dist-packages/torch/nn/modules/loss.py:529: UserWarning: Using a target size (torch.Size([398])) that is different to the input size (torch.Size([398, 1])). This will likely lead to incorrect results due to broadcasting. Please ensure they have the same size.\n",
            "  return F.mse_loss(input, target, reduction=self.reduction)\n"
          ]
        },
        {
          "output_type": "stream",
          "name": "stdout",
          "text": [
            "Epoch 0, loss: 7267.0810546875\n",
            "Epoch 100, loss: 70.34253692626953\n",
            "Epoch 200, loss: 64.74687194824219\n",
            "Epoch 300, loss: 62.39861297607422\n",
            "Epoch 400, loss: 61.902103424072266\n",
            "Epoch 500, loss: 61.67346954345703\n",
            "Epoch 600, loss: 61.63618469238281\n",
            "Epoch 700, loss: 61.67856216430664\n",
            "Epoch 800, loss: 61.624725341796875\n",
            "Epoch 900, loss: 61.61912536621094\n"
          ]
        }
      ]
    },
    {
      "cell_type": "markdown",
      "source": [
        "We now loop over 1,000 epochs and train the neural network; we define an epoch as one complete pass over the training set. We zero the gradients, so training from the previous epoch does not influence the current epoch. We present the entire training set to the model as one large batch. Later we will see more advanced ways to segment the data. We apply the loss function and use backpropagation to calculate the gradients to update the neural network weights.\n",
        "\n",
        "## Introduction to Neural Network Hyperparameters\n",
        "\n",
        "This network includes several hidden layers, with 50 and 25 neurons each. You might be wondering how the programmer chose these numbers. Selecting a hidden neuron structure is one of the most common questions about neural networks. Unfortunately, there is no right answer. These are hyperparameters. They are settings that can affect neural network performance, yet there are no clearly defined means of setting them.\n",
        "\n",
        "In general, more hidden neurons mean more capability to fit complex problems. However, too many neurons can lead to overfitting and lengthy training times. Too few can lead to underfitting the problem and will sacrifice accuracy. Also, how many layers you have is another hyperparameter. In general, more layers allow the neural network to perform more of its feature engineering and data preprocessing. But this also comes at the expense of training times and the risk of overfitting. In general, you will see that neuron counts start larger near the input layer and tend to shrink towards the output layer in a triangular fashion. \n",
        "\n",
        "Some techniques use machine learning to optimize these values. These will be discussed in [Module 8.3](t81_558_class_08_3_pytorch_hyperparameters.ipynb).\n",
        "\n",
        "## Regression Prediction\n",
        "\n",
        "Next, we will perform actual predictions. The program assigns these predictions to the **pred** variable. These are all MPG predictions from the neural network. Notice that this is a 2D array? You can always see the dimensions of what PyTorch returns by printing out **pred.shape**. Neural networks can return multiple values, so the result is always an array. Here the neural network only returns one value per prediction (there are 398 cars, so 398 predictions). However, a 2D range is needed because the neural network has the potential of returning more than one value.  "
      ],
      "metadata": {
        "id": "fqUK73GtE5jU"
      }
    },
    {
      "cell_type": "code",
      "execution_count": 12,
      "metadata": {
        "colab": {
          "base_uri": "https://localhost:8080/"
        },
        "id": "HbErLyX_CtiR",
        "outputId": "3d568186-1464-40b8-8185-b9147da61509"
      },
      "outputs": [
        {
          "output_type": "stream",
          "name": "stdout",
          "text": [
            "Shape: torch.Size([398, 1])\n",
            "tensor([[21.4901],\n",
            "        [22.1781],\n",
            "        [21.7567],\n",
            "        [21.9571],\n",
            "        [21.4522],\n",
            "        [22.6482],\n",
            "        [22.9884],\n",
            "        [22.7806],\n",
            "        [23.2889],\n",
            "        [22.2031]], grad_fn=<SliceBackward0>)\n"
          ]
        }
      ],
      "source": [
        "pred = model(x)\n",
        "print(f\"Shape: {pred.shape}\")\n",
        "print(pred[0:10])"
      ]
    },
    {
      "cell_type": "markdown",
      "metadata": {
        "id": "jk_lWnScCtiR"
      },
      "source": [
        "We would like to see how good these predictions are.  We know the correct MPG for each car so we can measure how close the neural network was."
      ]
    },
    {
      "cell_type": "code",
      "execution_count": 13,
      "metadata": {
        "colab": {
          "base_uri": "https://localhost:8080/"
        },
        "id": "vrY0Vs9oCtiR",
        "outputId": "6ef1b86a-d193-49dd-fa84-7f371bdf1e93"
      },
      "outputs": [
        {
          "output_type": "stream",
          "name": "stdout",
          "text": [
            "Final score (RMSE): 7.673141956329346\n"
          ]
        }
      ],
      "source": [
        "from sklearn import metrics\n",
        "\n",
        "# Measure RMSE error.  RMSE is common for regression.\n",
        "score = np.sqrt(metrics.mean_squared_error(pred.detach(),y))\n",
        "print(f\"Final score (RMSE): {score}\")"
      ]
    },
    {
      "cell_type": "markdown",
      "metadata": {
        "id": "i3yqZwhnCtiS"
      },
      "source": [
        "The number printed above is the average number of predictions above or below the expected output. We can also print out the first ten cars with predictions and actual MPG."
      ]
    },
    {
      "cell_type": "code",
      "execution_count": 14,
      "metadata": {
        "colab": {
          "base_uri": "https://localhost:8080/"
        },
        "id": "Tl7hv8NnCtiS",
        "outputId": "07ac82a8-44f3-4f7e-82c8-08261dbd1f79"
      },
      "outputs": [
        {
          "output_type": "stream",
          "name": "stdout",
          "text": [
            "1. Car name: chevrolet chevelle malibu, MPG: 18.0, predicted MPG: tensor([21.4901], grad_fn=<SelectBackward0>)\n",
            "2. Car name: buick skylark 320, MPG: 15.0, predicted MPG: tensor([22.1781], grad_fn=<SelectBackward0>)\n",
            "3. Car name: plymouth satellite, MPG: 18.0, predicted MPG: tensor([21.7567], grad_fn=<SelectBackward0>)\n",
            "4. Car name: amc rebel sst, MPG: 16.0, predicted MPG: tensor([21.9571], grad_fn=<SelectBackward0>)\n",
            "5. Car name: ford torino, MPG: 17.0, predicted MPG: tensor([21.4522], grad_fn=<SelectBackward0>)\n",
            "6. Car name: ford galaxie 500, MPG: 15.0, predicted MPG: tensor([22.6482], grad_fn=<SelectBackward0>)\n",
            "7. Car name: chevrolet impala, MPG: 14.0, predicted MPG: tensor([22.9884], grad_fn=<SelectBackward0>)\n",
            "8. Car name: plymouth fury iii, MPG: 14.0, predicted MPG: tensor([22.7806], grad_fn=<SelectBackward0>)\n",
            "9. Car name: pontiac catalina, MPG: 14.0, predicted MPG: tensor([23.2889], grad_fn=<SelectBackward0>)\n",
            "10. Car name: amc ambassador dpl, MPG: 15.0, predicted MPG: tensor([22.2031], grad_fn=<SelectBackward0>)\n"
          ]
        }
      ],
      "source": [
        "# Sample predictions\n",
        "for i in range(10):\n",
        "    print(f\"{i+1}. Car name: {cars[i]}, MPG: {y[i]}, \" \n",
        "          + f\"predicted MPG: {pred[i]}\")"
      ]
    },
    {
      "cell_type": "markdown",
      "metadata": {
        "id": "U_dpgVtfCtiS"
      },
      "source": [
        "## Simple TensorFlow Classification: Iris\n",
        "\n",
        "Classification is how a neural network attempts to classify the input into one or more classes.  The simplest way of evaluating a classification network is to track the percentage of training set items classified incorrectly.  We typically score human results in this manner.  For example, you might have taken multiple-choice exams in school in which you had to shade in a bubble for choices A, B, C, or D.  If you chose the wrong letter on a 10-question exam, you would earn a 90%.  In the same way, we can grade computers; however, most classification algorithms do not merely choose A, B, C, or D.  Computers typically report a classification as their percent confidence in each class.  Figure 3.EXAM shows how a computer and a human might respond to question number 1 on an exam.\n",
        "\n",
        "**Figure 3.EXAM: Classification Neural Network Output**\n",
        "![Classification Neural Network Output](images/class-multi-choice.png \"Classification Neural Network Output\")\n",
        "\n",
        "As you can see, the human test taker marked the first question as \"B.\" However, the computer test taker had an 80% (0.8) confidence in \"B\" and was also somewhat sure with 10% (0.1) on \"A.\" The computer then distributed the remaining points to the other two.  In the simplest sense, the machine would get 80% of the score for this question if the correct answer were \"B.\" The computer would get only 5% (0.05) of the points if the correct answer were \"D.\" \n",
        "\n",
        "We previously saw how to train a neural network to predict the MPG of a card. Based on four measurements, we will now see how to predict a class, such as the type of iris flower. The code to classify iris flowers is similar to MPG; however, there are several important differences:\n",
        "\n",
        "* The output neuron count matches the number of classes (in the case of Iris, 3).\n",
        "* The **Softmax** transfer function is utilized by the output layer.\n",
        "* The loss function is **CrossEntropyLoss**.\n",
        " \n",
        "\n"
      ]
    },
    {
      "cell_type": "code",
      "execution_count": 15,
      "metadata": {
        "colab": {
          "base_uri": "https://localhost:8080/"
        },
        "id": "aLp65T9JCtiS",
        "outputId": "26101512-c65a-47a9-ca21-c08e442eb7f4"
      },
      "outputs": [
        {
          "output_type": "stream",
          "name": "stdout",
          "text": [
            "Epoch 0, loss: 1.1018542051315308\n",
            "Epoch 100, loss: 0.5703378915786743\n",
            "Epoch 200, loss: 0.570610761642456\n",
            "Epoch 300, loss: 0.5682231783866882\n",
            "Epoch 400, loss: 0.5666402578353882\n",
            "Epoch 500, loss: 0.5664065480232239\n",
            "Epoch 600, loss: 0.5672382712364197\n",
            "Epoch 700, loss: 0.565004289150238\n",
            "Epoch 800, loss: 0.5638324022293091\n",
            "Epoch 900, loss: 0.5665655732154846\n"
          ]
        }
      ],
      "source": [
        "import pandas as pd\n",
        "from sklearn.model_selection import train_test_split\n",
        "from sklearn.metrics import accuracy_score\n",
        "\n",
        "import torch\n",
        "import torch.nn as nn\n",
        "import torch.nn.functional as F\n",
        "import numpy as np\n",
        "from torch.autograd import Variable\n",
        "from sklearn import preprocessing\n",
        "\n",
        "\n",
        "class Net(nn.Module):\n",
        "    def __init__(self, in_count, out_count):\n",
        "        super(Net, self).__init__()\n",
        "        self.fc1 = nn.Linear(in_count, 50)\n",
        "        self.fc2 = nn.Linear(50, 25)\n",
        "        self.fc3 = nn.Linear(25, out_count)\n",
        "        self.softmax = nn.Softmax(dim=1)\n",
        "\n",
        "    def forward(self, x):\n",
        "        x = F.relu(self.fc1(x))\n",
        "        x = F.relu(self.fc2(x))\n",
        "        return self.softmax(self.fc3(x))\n",
        "\n",
        "df = pd.read_csv(\n",
        "    \"https://data.heatonresearch.com/data/t81-558/iris.csv\", \n",
        "    na_values=['NA', '?'])\n",
        "\n",
        "le = preprocessing.LabelEncoder()\n",
        "\n",
        "x = df[['sepal_l', 'sepal_w', 'petal_l', 'petal_w']].values\n",
        "y = le.fit_transform(df['species'])\n",
        "species = le.classes_\n",
        "\n",
        "x = torch.Tensor(x).float()\n",
        "y = torch.Tensor(y).long()\n",
        "\n",
        "model = Net(x.shape[1],len(species))\n",
        "\n",
        "criterion = nn.CrossEntropyLoss()# cross entropy loss\n",
        "\n",
        "optimizer = torch.optim.Adam(model.parameters(), lr=0.01)\n",
        "\n",
        "for epoch in range(1000):\n",
        "    optimizer.zero_grad()\n",
        "    out = model(x)\n",
        "    loss = criterion(out, y)\n",
        "    loss.backward()\n",
        "    optimizer.step()\n",
        "    \n",
        "    if epoch % 100 == 0:\n",
        "        print(f\"Epoch {epoch}, loss: {loss.item()}\")"
      ]
    },
    {
      "cell_type": "code",
      "execution_count": 16,
      "metadata": {
        "colab": {
          "base_uri": "https://localhost:8080/"
        },
        "id": "QPM30WdBCtiS",
        "outputId": "c15cc5a6-4a4c-4aa9-d83f-b1d212720d28"
      },
      "outputs": [
        {
          "output_type": "stream",
          "name": "stdout",
          "text": [
            "['Iris-setosa' 'Iris-versicolor' 'Iris-virginica']\n"
          ]
        }
      ],
      "source": [
        "# Print out number of species found:\n",
        "\n",
        "print(species)"
      ]
    },
    {
      "cell_type": "markdown",
      "metadata": {
        "id": "dM8-xyDxCtiS"
      },
      "source": [
        "Now that you have a neural network trained, we would like to be able to use it. The following code makes use of our neural network. Exactly like before, we will generate predictions. Notice that three values come back for each of the 150 iris flowers. There were three types of iris (Iris-setosa, Iris-versicolor, and Iris-virginica).  "
      ]
    },
    {
      "cell_type": "code",
      "execution_count": 17,
      "metadata": {
        "colab": {
          "base_uri": "https://localhost:8080/"
        },
        "id": "3YzlVpw-CtiS",
        "outputId": "51083988-c1d2-4b39-f259-077751725d3a"
      },
      "outputs": [
        {
          "output_type": "stream",
          "name": "stdout",
          "text": [
            "Shape: torch.Size([150, 3])\n",
            "tensor([[1.0000e+00, 2.3368e-07, 0.0000e+00],\n",
            "        [1.0000e+00, 1.2691e-06, 0.0000e+00],\n",
            "        [1.0000e+00, 7.8415e-07, 0.0000e+00],\n",
            "        [1.0000e+00, 2.9112e-06, 5.6052e-45],\n",
            "        [1.0000e+00, 2.2669e-07, 0.0000e+00],\n",
            "        [1.0000e+00, 2.9579e-07, 0.0000e+00],\n",
            "        [1.0000e+00, 1.2391e-06, 0.0000e+00],\n",
            "        [1.0000e+00, 5.6966e-07, 0.0000e+00],\n",
            "        [1.0000e+00, 4.8976e-06, 2.2141e-43],\n",
            "        [1.0000e+00, 1.0951e-06, 0.0000e+00]], grad_fn=<SliceBackward0>)\n"
          ]
        }
      ],
      "source": [
        "pred = model(x)\n",
        "print(f\"Shape: {pred.shape}\")\n",
        "print(pred[0:10])"
      ]
    },
    {
      "cell_type": "markdown",
      "metadata": {
        "id": "JCay-JrvCtiS"
      },
      "source": [
        "If you would like to turn of scientific notation, the following line can be used:"
      ]
    },
    {
      "cell_type": "code",
      "execution_count": 18,
      "metadata": {
        "id": "nXZne7ZICtiS"
      },
      "outputs": [],
      "source": [
        "np.set_printoptions(suppress=True)"
      ]
    },
    {
      "cell_type": "markdown",
      "metadata": {
        "id": "nOvMqI7QCtiS"
      },
      "source": [
        "Now we see these values rounded up."
      ]
    },
    {
      "cell_type": "code",
      "execution_count": 19,
      "metadata": {
        "colab": {
          "base_uri": "https://localhost:8080/"
        },
        "id": "F9PSDexjCtiS",
        "outputId": "0098a1a4-4ad0-4d11-ac5c-d362884becd4"
      },
      "outputs": [
        {
          "output_type": "stream",
          "name": "stdout",
          "text": [
            "tensor([0, 0, 0, 0, 0, 0, 0, 0, 0, 0])\n"
          ]
        }
      ],
      "source": [
        "print(y[0:10])"
      ]
    },
    {
      "cell_type": "markdown",
      "metadata": {
        "id": "qDC7hxqECtiS"
      },
      "source": [
        "Usually, the program considers the column with the highest prediction to be the prediction of the neural network.  It is easy to convert the predictions to the expected iris species.  The argmax function finds the index of the maximum prediction for each row."
      ]
    },
    {
      "cell_type": "code",
      "execution_count": 20,
      "metadata": {
        "colab": {
          "base_uri": "https://localhost:8080/"
        },
        "id": "367mbx_PCtiT",
        "outputId": "1a5420ef-09c0-40fa-b1cf-413611ed9ec3"
      },
      "outputs": [
        {
          "output_type": "stream",
          "name": "stdout",
          "text": [
            "Predictions: tensor([0, 0, 0, 0, 0, 0, 0, 0, 0, 0, 0, 0, 0, 0, 0, 0, 0, 0, 0, 0, 0, 0, 0, 0,\n",
            "        0, 0, 0, 0, 0, 0, 0, 0, 0, 0, 0, 0, 0, 0, 0, 0, 0, 0, 0, 0, 0, 0, 0, 0,\n",
            "        0, 0, 1, 1, 1, 1, 1, 1, 1, 1, 1, 1, 1, 1, 1, 1, 1, 1, 1, 1, 1, 1, 1, 1,\n",
            "        2, 1, 1, 1, 1, 1, 1, 1, 1, 1, 1, 2, 1, 1, 1, 1, 1, 1, 1, 1, 1, 1, 1, 1,\n",
            "        1, 1, 1, 1, 2, 2, 2, 2, 2, 2, 2, 2, 2, 2, 2, 2, 2, 2, 2, 2, 2, 2, 2, 2,\n",
            "        2, 2, 2, 2, 2, 2, 2, 2, 2, 2, 2, 2, 2, 2, 2, 2, 2, 2, 2, 2, 2, 2, 2, 2,\n",
            "        2, 2, 2, 2, 2, 2])\n",
            "Expected: tensor([0, 0, 0, 0, 0, 0, 0, 0, 0, 0, 0, 0, 0, 0, 0, 0, 0, 0, 0, 0, 0, 0, 0, 0,\n",
            "        0, 0, 0, 0, 0, 0, 0, 0, 0, 0, 0, 0, 0, 0, 0, 0, 0, 0, 0, 0, 0, 0, 0, 0,\n",
            "        0, 0, 1, 1, 1, 1, 1, 1, 1, 1, 1, 1, 1, 1, 1, 1, 1, 1, 1, 1, 1, 1, 1, 1,\n",
            "        1, 1, 1, 1, 1, 1, 1, 1, 1, 1, 1, 1, 1, 1, 1, 1, 1, 1, 1, 1, 1, 1, 1, 1,\n",
            "        1, 1, 1, 1, 2, 2, 2, 2, 2, 2, 2, 2, 2, 2, 2, 2, 2, 2, 2, 2, 2, 2, 2, 2,\n",
            "        2, 2, 2, 2, 2, 2, 2, 2, 2, 2, 2, 2, 2, 2, 2, 2, 2, 2, 2, 2, 2, 2, 2, 2,\n",
            "        2, 2, 2, 2, 2, 2])\n"
          ]
        }
      ],
      "source": [
        "_, predict_classes = torch.max(pred, 1)\n",
        "print(f\"Predictions: {predict_classes}\")\n",
        "print(f\"Expected: {y}\")"
      ]
    },
    {
      "cell_type": "markdown",
      "metadata": {
        "id": "lrcy0Q4xCtiT"
      },
      "source": [
        "Of course, it is straightforward to turn these indexes back into iris species. We use the species list that we created earlier."
      ]
    },
    {
      "cell_type": "code",
      "execution_count": 21,
      "metadata": {
        "colab": {
          "base_uri": "https://localhost:8080/"
        },
        "id": "NTORTvygCtiT",
        "outputId": "f69aa8f3-e4c0-4bb1-ae5f-93012e3c4592"
      },
      "outputs": [
        {
          "output_type": "stream",
          "name": "stdout",
          "text": [
            "['Iris-setosa' 'Iris-setosa' 'Iris-setosa' 'Iris-setosa' 'Iris-setosa'\n",
            " 'Iris-setosa' 'Iris-setosa' 'Iris-setosa' 'Iris-setosa']\n"
          ]
        }
      ],
      "source": [
        "print(species[predict_classes[1:10]])"
      ]
    },
    {
      "cell_type": "markdown",
      "metadata": {
        "id": "Ljez1ZRACtiT"
      },
      "source": [
        "Accuracy might be a more easily understood error metric.  It is essentially a test score.  For all of the iris predictions, what percent were correct?  The downside is it does not consider how confident the neural network was in each prediction."
      ]
    },
    {
      "cell_type": "code",
      "execution_count": 22,
      "metadata": {
        "colab": {
          "base_uri": "https://localhost:8080/"
        },
        "id": "zth2S2OcCtiT",
        "outputId": "81f8f96c-bd7f-4b9c-f1d0-7d94886a08ba"
      },
      "outputs": [
        {
          "output_type": "stream",
          "name": "stdout",
          "text": [
            "Accuracy: 0.9866666666666667\n"
          ]
        }
      ],
      "source": [
        "from sklearn.metrics import accuracy_score\n",
        "\n",
        "correct = accuracy_score(y,predict_classes)\n",
        "print(f\"Accuracy: {correct}\")"
      ]
    },
    {
      "cell_type": "markdown",
      "metadata": {
        "id": "jY07aiLICtiT"
      },
      "source": [
        "The code below performs two ad hoc predictions.  The first prediction is a single iris flower, and the second predicts two iris flowers.  Notice that the **argmax** in the second prediction requires **axis=1**?  Since we have a 2D array now, we must specify which axis to take the **argmax** over.  The value **axis=1** specifies we want the max column index for each row."
      ]
    },
    {
      "cell_type": "code",
      "execution_count": 23,
      "metadata": {
        "colab": {
          "base_uri": "https://localhost:8080/"
        },
        "id": "FZUSWVGnCtiT",
        "outputId": "6aa76d3e-9fa4-4506-ad7d-27a56e1c246a"
      },
      "outputs": [
        {
          "output_type": "stream",
          "name": "stdout",
          "text": [
            "tensor([[3.4904e-05, 9.3151e-01, 6.8450e-02]], grad_fn=<SoftmaxBackward0>)\n",
            "Predict that tensor([[5., 3., 4., 2.]]) is: Iris-versicolor\n"
          ]
        }
      ],
      "source": [
        "sample_flower = torch.Tensor( [[5.0,3.0,4.0,2.0]])\n",
        "pred = model(sample_flower)\n",
        "print(pred)\n",
        "_, predict_classes = torch.max(pred, 1)\n",
        "print(f\"Predict that {sample_flower} is: {species[predict_classes]}\")"
      ]
    },
    {
      "cell_type": "markdown",
      "metadata": {
        "id": "ENSZaaRICtiT"
      },
      "source": [
        "You can also predict two sample flowers."
      ]
    },
    {
      "cell_type": "code",
      "execution_count": 24,
      "metadata": {
        "colab": {
          "base_uri": "https://localhost:8080/"
        },
        "id": "fdSSkkmwCtiT",
        "outputId": "4fb4df36-7e23-4c28-dd8b-a08e4461b78a"
      },
      "outputs": [
        {
          "output_type": "stream",
          "name": "stdout",
          "text": [
            "tensor([[3.4904e-05, 9.3151e-01, 6.8450e-02],\n",
            "        [1.0000e+00, 1.9912e-06, 0.0000e+00]], grad_fn=<SoftmaxBackward0>)\n",
            "Predict that these two flowers tensor([[5.0000, 3.0000, 4.0000, 2.0000],\n",
            "        [5.2000, 3.5000, 1.5000, 0.8000]]) \n",
            "are: ['Iris-versicolor' 'Iris-setosa']\n"
          ]
        }
      ],
      "source": [
        "sample_flower = torch.Tensor( [[5.0,3.0,4.0,2.0],[5.2,3.5,1.5,0.8]])\n",
        "pred = model(sample_flower)\n",
        "print(pred)\n",
        "_, predict_classes = torch.max(pred, 1)\n",
        "print(f\"Predict that these two flowers {sample_flower} \")\n",
        "print(f\"are: {species[predict_classes]}\")"
      ]
    }
  ],
  "metadata": {
    "anaconda-cloud": {},
    "colab": {
      "collapsed_sections": [],
      "name": "Copy of t81_558_class_03_2_pytorch.ipynb",
      "provenance": []
    },
    "kernelspec": {
      "display_name": "Python 3.9 (tensorflow)",
      "language": "python",
      "name": "tensorflow"
    },
    "language_info": {
      "codemirror_mode": {
        "name": "ipython",
        "version": 3
      },
      "file_extension": ".py",
      "mimetype": "text/x-python",
      "name": "python",
      "nbconvert_exporter": "python",
      "pygments_lexer": "ipython3",
      "version": "3.9.7"
    },
    "varInspector": {
      "cols": {
        "lenName": 16,
        "lenType": 16,
        "lenVar": 40
      },
      "kernels_config": {
        "python": {
          "delete_cmd_postfix": "",
          "delete_cmd_prefix": "del ",
          "library": "var_list.py",
          "varRefreshCmd": "print(var_dic_list())"
        },
        "r": {
          "delete_cmd_postfix": ") ",
          "delete_cmd_prefix": "rm(",
          "library": "var_list.r",
          "varRefreshCmd": "cat(var_dic_list()) "
        }
      },
      "types_to_exclude": [
        "module",
        "function",
        "builtin_function_or_method",
        "instance",
        "_Feature"
      ],
      "window_display": false
    }
  },
  "nbformat": 4,
  "nbformat_minor": 0
}