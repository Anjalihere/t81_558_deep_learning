{
  "cells": [
    {
      "cell_type": "markdown",
      "metadata": {
        "id": "YAb2gKjjhSJr"
      },
      "source": [
        "<a href=\"https://colab.research.google.com/github/jeffheaton/t81_558_deep_learning/blob/master/t81_558_class_04_4_backprop.ipynb\" target=\"_parent\"><img src=\"https://colab.research.google.com/assets/colab-badge.svg\" alt=\"Open In Colab\"/></a>"
      ]
    },
    {
      "cell_type": "markdown",
      "metadata": {
        "id": "LvD4M4THhSJs"
      },
      "source": [
        "# T81-558: Applications of Deep Neural Networks\n",
        "**Module 4: Training for Tabular Data**\n",
        "* Instructor: [Jeff Heaton](https://sites.wustl.edu/jeffheaton/), McKelvey School of Engineering, [Washington University in St. Louis](https://engineering.wustl.edu/Programs/Pages/default.aspx)\n",
        "* For more information visit the [class website](https://sites.wustl.edu/jeffheaton/t81-558/)."
      ]
    },
    {
      "cell_type": "markdown",
      "metadata": {
        "id": "n68wi2RzhSJs"
      },
      "source": [
        "# Module 4 Material\n",
        "\n",
        "* Part 4.1: Encoding a Feature Vector for Keras Deep Learning [[Video]](https://www.youtube.com/watch?v=Vxz-gfs9nMQ&list=PLjy4p-07OYzulelvJ5KVaT2pDlxivl_BN) [[Notebook]](https://github.com/jeffheaton/t81_558_deep_learning/blob/master/t81_558_class_04_1_feature_encode.ipynb)\n",
        "* Part 4.2: Keras Multiclass Classification for Deep Neural Networks with ROC and AUC [[Video]](https://www.youtube.com/watch?v=-f3bg9dLMks&list=PLjy4p-07OYzulelvJ5KVaT2pDlxivl_BN) [[Notebook]](https://github.com/jeffheaton/t81_558_deep_learning/blob/master/t81_558_class_04_2_multi_class.ipynb)\n",
        "* Part 4.3: Keras Regression for Deep Neural Networks with RMSE [[Video]](https://www.youtube.com/watch?v=wNhBUC6X5-E&list=PLjy4p-07OYzulelvJ5KVaT2pDlxivl_BN) [[Notebook]](https://github.com/jeffheaton/t81_558_deep_learning/blob/master/t81_558_class_04_3_regression.ipynb)\n",
        "* **Part 4.4: Backpropagation, Nesterov Momentum, and ADAM Neural Network Training** [[Video]](https://www.youtube.com/watch?v=VbDg8aBgpck&list=PLjy4p-07OYzulelvJ5KVaT2pDlxivl_BN) [[Notebook]](https://github.com/jeffheaton/t81_558_deep_learning/blob/master/t81_558_class_04_4_backprop.ipynb)\n",
        "* Part 4.5: Neural Network RMSE and Log Loss Error Calculation from Scratch [[Video]](https://www.youtube.com/watch?v=wmQX1t2PHJc&list=PLjy4p-07OYzulelvJ5KVaT2pDlxivl_BN) [[Notebook]](https://github.com/jeffheaton/t81_558_deep_learning/blob/master/t81_558_class_04_5_rmse_logloss.ipynb)"
      ]
    },
    {
      "cell_type": "markdown",
      "metadata": {
        "id": "JLHetxSihSJt"
      },
      "source": [
        "# Google CoLab Instructions\n",
        "\n",
        "The following code ensures that Google CoLab is running and maps Google Drive if needed.  We also initialize the PyTorch device to either GPU (if available) or CPU and include any needed functions from previous modules."
      ]
    },
    {
      "cell_type": "code",
      "execution_count": 1,
      "metadata": {
        "id": "YiCzWLtyhSJt",
        "colab": {
          "base_uri": "https://localhost:8080/"
        },
        "outputId": "d23eef11-7420-468f-e2f1-36fcfe03d840"
      },
      "outputs": [
        {
          "output_type": "stream",
          "name": "stdout",
          "text": [
            "Note: using Google CoLab\n",
            "Using device: cpu\n"
          ]
        }
      ],
      "source": [
        "import torch\n",
        "import copy\n",
        "\n",
        "try:\n",
        "    import google.colab\n",
        "    COLAB = True\n",
        "    print(\"Note: using Google CoLab\")\n",
        "except:\n",
        "    print(\"Note: not using Google CoLab\")\n",
        "    COLAB = False\n",
        "\n",
        "# Early stopping (see Module 3.4)\n",
        "class EarlyStopping():\n",
        "  def __init__(self, patience=5, min_delta=1e-2, restore_best_weights=True):\n",
        "    self.patience = patience\n",
        "    self.min_delta = min_delta\n",
        "    self.restore_best_weights = restore_best_weights\n",
        "    self.best_model = None\n",
        "    self.best_loss = None\n",
        "    self.counter = 0\n",
        "    self.status = \"\"\n",
        "    \n",
        "  def __call__(self, model, val_loss):\n",
        "    if self.best_loss == None:\n",
        "      self.best_loss = val_loss\n",
        "      self.best_model = copy.deepcopy(model)\n",
        "    elif self.best_loss - val_loss > self.min_delta:\n",
        "      self.best_loss = val_loss\n",
        "      self.counter = 0\n",
        "      self.best_model.load_state_dict(model.state_dict())\n",
        "    elif self.best_loss - val_loss < self.min_delta:\n",
        "      self.counter += 1\n",
        "      if self.counter >= self.patience:\n",
        "        self.status = f\"Stopped on {self.counter}\"\n",
        "        if self.restore_best_weights:\n",
        "          model.load_state_dict(self.best_model.state_dict())\n",
        "        return True\n",
        "    self.status = f\"{self.counter}/{self.patience}\"\n",
        "    return False\n",
        "\n",
        "# Regression chart. (see Module 4.3)\n",
        "def chart_regression(pred, y, sort=True):\n",
        "    t = pd.DataFrame({'pred': pred, 'y': y.flatten()})\n",
        "    if sort:\n",
        "        t.sort_values(by=['y'], inplace=True)\n",
        "    plt.plot(t['y'].tolist(), label='expected')\n",
        "    plt.plot(t['pred'].tolist(), label='prediction')\n",
        "    plt.ylabel('output')\n",
        "    plt.legend()\n",
        "    plt.show()\n",
        "    \n",
        "# Make use of a GPU if one is available. (see Module 3.2)\n",
        "device = torch.device('cuda' if torch.cuda.is_available() else 'cpu')\n",
        "print(f\"Using device: {device}\")"
      ]
    },
    {
      "cell_type": "markdown",
      "metadata": {
        "id": "mSRd3VuPhSJt"
      },
      "source": [
        "# Part 4.4: Training Neural Networks\n",
        "\n",
        "Backpropagation [[Cite:rumelhart1986learning]](https://www.iro.umontreal.ca/~vincentp/ift3395/lectures/backprop_old.pdf) is one of the most common methods for training a neural network. Rumelhart, Hinton, & Williams introduced backpropagation, and it remains popular today. Programmers frequently train deep neural networks with backpropagation because it scales really well when run on graphical processing units (GPUs). To understand this algorithm for neural networks, we must examine how to train it as well as how it processes a pattern.\n",
        "\n",
        "Researchers have extended classic backpropagation and modified to give rise to many different training algorithms. This section will discuss the most commonly used training algorithms for neural networks. We begin with classic backpropagation and end the chapter with stochastic gradient descent (SGD).\n",
        "\n",
        "Backpropagation is the primary means of determining a neural network's weights during training. Backpropagation works by calculating a weight change amount ($v_t$) for every weight($\\theta$, theta) in the neural network. This value is subtracted from every weight by the following equation: \n",
        "\n",
        "$$ \\theta_t = \\theta_{t-1} - v_t $$\n",
        "\n",
        "We repeat this process for every iteration($t$). The training algorithm determines how we calculate the weight change. Classic backpropagation calculates a gradient ($\\nabla$, nabla) for every weight in the neural network for the neural network's error function ($J$). We scale the gradient by a learning rate ($\\eta$, eta).\n",
        "\n",
        "$$ v_t = \\eta \\nabla_{\\theta_{t-1}} J(\\theta_{t-1}) $$\n",
        "\n",
        "The learning rate is an important concept for backpropagation training. Setting the learning rate can be complex:\n",
        "\n",
        "* Too low a learning rate will usually converge to a reasonable solution; however, the process will be prolonged.\n",
        "* Too high of a learning rate will either fail outright or converge to a higher error than a better learning rate.\n",
        "\n",
        "Common values for learning rate are: 0.1, 0.01, 0.001, etc.\n",
        "\n",
        "Backpropagation is a gradient descent type, and many texts will use these two terms interchangeably. Gradient descent refers to calculating a gradient on each weight in the neural network for each training element. Because the neural network will not output the expected value for a training element, the gradient of each weight will indicate how to modify each weight to achieve the expected output. If the neural network did output exactly what was expected, the gradient for each weight would be 0, indicating that no change to the weight is necessary.\n",
        "\n",
        "The gradient is the derivative of the error function at the weight's current value. The error function measures the distance of the neural network's output from the expected output. We can use gradient descent, a process in which each weight's gradient value can reach even lower values of the error function. \n",
        "  \n",
        "The gradient is the partial derivative of each weight in the neural network concerning the error function. Each weight has a gradient that is the slope of the error function. Weight is a connection between two neurons. Calculating the gradient of the error function allows the training method to determine whether it should increase or decrease the weight. In turn, this determination will decrease the error of the neural network. The error is the difference between the expected output and actual output of the neural network. Many different training methods called propagation-training algorithms utilize gradients. In all of them, the sign of the gradient tells the neural network the following information:\n",
        "\n",
        "* Zero gradient - The weight does not contribute to the neural network's error.\n",
        "* Negative gradient - The algorithm should increase the weight to lower error.\n",
        "* Positive gradient - The algorithm should decrease the weight to lower error.\n",
        "\n",
        "\n",
        "Because many algorithms depend on gradient calculation, we will begin with an analysis of this process. First of all, let's examine the gradient. Essentially, training is a search for the set of weights that will cause the neural network to have the lowest error for a training set. If we had infinite computation resources, we would try every possible combination of weights to determine the one that provided the lowest error during the training. \n",
        "\n",
        "Because we do not have unlimited computing resources, we have to use some shortcuts to prevent the need to examine every possible weight combination. These training methods utilize clever techniques to avoid performing a brute-force search of all weight values. This type of exhaustive search would be impossible because even small networks have an infinite number of weight combinations.\n",
        "\n",
        "Consider a chart that shows the error of a neural network for each possible weight. Figure 4.DRV is a graph that demonstrates the error for a single weight:\n",
        "\n",
        "**Figure 4.DRV: Derivative**\n",
        "![Derivative](https://raw.githubusercontent.com/jeffheaton/t81_558_deep_learning/master/images/class_2_deriv.png \"Derivative\")\n",
        "\n",
        "Looking at this chart, you can easily see that the optimal weight is where the line has the lowest y-value. The problem is that we see only the error for the current value of the weight; we do not see the entire graph because that process would require an exhaustive search. However, we can determine the slope of the error curve at a particular weight. In the above chart, we see the slope of the error curve at 1.5. The straight line barely touches the error curve at 1.5 gives the slope. In this case, the slope, or gradient, is -0.5622. The negative slope indicates that an increase in the weight will lower the error.\n",
        "The gradient is the instantaneous slope of the error function at the specified weight. The derivative of the error curve at that point gives the gradient. This line tells us the steepness of the error function at the given weight.  \n",
        "Derivatives are one of the most fundamental concepts in calculus. For this book, you need to understand that a derivative provides the slope of a function at a specific point. A training technique and this slope can give you the information to adjust the weight for a lower error. Using our working definition of the gradient, we will show how to calculate it.\n",
        "\n",
        "## Momentum Backpropagation\n",
        "\n",
        "Momentum adds another term to the calculation of $v_t$:\n",
        "\n",
        "$$ v_t = \\eta \\nabla_{\\theta_{t-1}} J(\\theta_{t-1}) + \\lambda v_{t-1} $$\n",
        "\n",
        "Like the learning rate, momentum adds another training parameter that scales the effect of momentum. Momentum backpropagation has two training parameters: learning rate ($\\eta$, eta) and momentum ($\\lambda$, lambda). Momentum adds the scaled value of the previous weight change amount ($v_{t-1}$) to the current weight change amount($v_t$).\n",
        "\n",
        "This technique has the effect of adding additional force behind the direction a weight is moving. Figure 4.MTM shows how this might allow the weight to escape local minima.\n",
        "\n",
        "**Figure 4.MTM: Momentum**\n",
        "![Momentum](https://raw.githubusercontent.com/jeffheaton/t81_558_deep_learning/master/images/class_5_momentum.png \"Momentum\")\n",
        "\n",
        "A typical value for momentum is 0.9.\n"
      ]
    },
    {
      "cell_type": "markdown",
      "metadata": {
        "id": "6ZZFTY9khSJu"
      },
      "source": [
        "## Batch and Online Backpropagation\n",
        "\n",
        "How often should the weights of a neural network be updated?  We can calculate gradients for a training set element.  These gradients can also be summed together into batches, and the weights updated once per batch.\n",
        "\n",
        "* **Online Training** - Update the weights based on gradients calculated from a single training set element.\n",
        "* **Batch Training** - Update the weights based on the sum of the gradients over all training set elements.\n",
        "* **Batch Size** - Update the weights based on the sum of some batch size of training set elements.\n",
        "* **Mini-Batch Training** - The same as batch size, but with minimal batch size.  Mini-batches are very popular, often in the 32-64 element range.\n",
        "\n",
        "Because the batch size is smaller than the full training set size, it may take several batches to make it completely through the training set.  \n",
        "\n",
        "* **Step/Iteration** - The number of processed batches.\n",
        "* **Epoch** - The number of times the algorithm processed the complete training set.\n",
        "\n",
        "## Stochastic Gradient Descent\n",
        "\n",
        "Stochastic gradient descent (SGD) is currently one of the most popular neural network training algorithms.  It works very similarly to Batch/Mini-Batch training, except that the batches are made up of a random set of training elements.\n",
        "\n",
        "This technique leads to a very irregular convergence in error during training, as shown in Figure 4.SGD.\n",
        "\n",
        "**Figure 4.SGD: SGD Error**\n",
        "![SGD Error](https://raw.githubusercontent.com/jeffheaton/t81_558_deep_learning/master/images/class_5_sgd_error.png \"SGD Error\")\n",
        "[Image from Wikipedia](https://en.wikipedia.org/wiki/Stochastic_gradient_descent)\n",
        "\n",
        "Because the neural network is trained on a random sample of the complete training set each time, the error does not make a smooth transition downward.  However, the error usually does go down.\n",
        "\n",
        "Advantages to SGD include:\n",
        "\n",
        "* Computationally efficient.  Each training step can be relatively fast, even with a huge training set.\n",
        "* Decreases overfitting by focusing on only a portion of the training set each step.\n"
      ]
    },
    {
      "cell_type": "markdown",
      "metadata": {
        "id": "SFHRmhhFhSJu"
      },
      "source": [
        "## Other Techniques\n",
        "\n",
        "One problem with simple backpropagation training algorithms is that they are susceptible to learning rate and momentum. This technique is difficult because:\n",
        "\n",
        "* Learning rate must be adjusted to a small enough level to train an accurate neural network.\n",
        "* Momentum must be large enough to overcome local minima yet small enough not to destabilize the training.\n",
        "* A single learning rate/momentum is often not good enough for the entire training process. It is often helpful to automatically decrease the learning rate as the training progresses.\n",
        "* All weights share a single learning rate/momentum.\n",
        "\n",
        "Other training techniques:\n",
        "\n",
        "* **Resilient Propagation** - Use only the magnitude of the gradient and allow each neuron to learn at its rate. There is no need for learning rate/momentum; however, it only works in full batch mode.\n",
        "* **Nesterov accelerated gradient** - Helps mitigate the risk of choosing a bad mini-batch.\n",
        "* **Adagrad** - Allows an automatically decaying per-weight learning rate and momentum concept.\n",
        "* **Adadelta** - Extension of Adagrad that seeks to reduce its aggressive, monotonically decreasing learning rate.\n",
        "* **Non-Gradient Methods** - Non-gradient methods can *sometimes* be useful, though rarely outperform gradient-based backpropagation methods.  These include: [simulated annealing](https://en.wikipedia.org/wiki/Simulated_annealing), [genetic algorithms](https://en.wikipedia.org/wiki/Genetic_algorithm), [particle swarm optimization](https://en.wikipedia.org/wiki/Particle_swarm_optimization), [Nelder Mead](https://en.wikipedia.org/wiki/Nelder%E2%80%93Mead_method), and [many more](https://en.wikipedia.org/wiki/Category:Optimization_algorithms_and_methods)."
      ]
    },
    {
      "cell_type": "markdown",
      "metadata": {
        "id": "ufkLr0ANhSJv"
      },
      "source": [
        "## ADAM Update\n",
        "\n",
        "ADAM is the first training algorithm you should try.  It is very effective.  Kingma and Ba (2014) introduced the Adam update rule that derives its name from the adaptive moment estimates. [[Cite:kingma2014adam]](https://arxiv.org/abs/1412.6980)  Adam estimates the first (mean) and second (variance) moments to determine the weight corrections.  Adam begins with an exponentially decaying average of past gradients (m):\n",
        "\n",
        "$$ m_t = \\beta_1 m_{t-1} + (1-\\beta_1) g_t $$\n",
        "\n",
        "This average accomplishes a similar goal as classic momentum update; however, its value is calculated automatically based on the current gradient ($g_t$).  The update rule then calculates the second moment ($v_t$):\n",
        "\n",
        "$$ v_t = \\beta_2 v_{t-1} + (1-\\beta_2) g_t^2 $$\n",
        "\n",
        "The values $m_t$ and $v_t$ are estimates of the gradients' first moment (the mean) and the second moment (the uncentered variance).  However, they will be strongly biased towards zero in the initial training cycles.  The first moment’s bias is corrected as follows.\n",
        "\n",
        "$$ \\hat{m}_t = \\frac{m_t}{1-\\beta^t_1} $$\n",
        "\n",
        "Similarly, the second moment is also corrected:\n",
        "\n",
        "$$ \\hat{v}_t = \\frac{v_t}{1-\\beta_2^t} $$\n",
        "\n",
        "These bias-corrected first and second moment estimates are applied to the ultimate Adam update rule, as follows:\n",
        "\n",
        "$$ \\theta_t = \\theta_{t-1} - \\frac{\\alpha \\cdot \\hat{m}_t}{\\sqrt{\\hat{v}_t}+\\eta} \\hat{m}_t $$\n",
        "\n",
        "Adam is very tolerant to initial learning rate (\\alpha) and other training parameters. Kingma and Ba (2014)  propose default values of 0.9 for $\\beta_1$, 0.999 for $\\beta_2$, and 10-8 for $\\eta$."
      ]
    },
    {
      "cell_type": "markdown",
      "metadata": {
        "id": "N5wyujILhSJ0"
      },
      "source": [
        "## Methods Compared\n",
        "\n",
        "The following image shows how each of these algorithms train. It is animated, so it is not displayed in the printed book, but can be accessed from here: [https://bit.ly/3kykkbn](https://bit.ly/3kykkbn).\n",
        "\n",
        "![Training Techniques](https://raw.githubusercontent.com/jeffheaton/t81_558_deep_learning/master/images/contours_evaluation_optimizers.gif \"Training Techniques\")\n",
        "Image credits: [Alec Radford](https://scholar.google.com/citations?user=dOad5HoAAAAJ&hl=en)\n",
        "\n",
        "## Specifying the Update Rule in PyTorch\n",
        "\n",
        "TensorFlow allows the update rule to be set to one of:\n",
        "\n",
        "* Adagrad\n",
        "* **Adam**\n",
        "* Ftrl\n",
        "* Momentum\n",
        "* RMSProp\n",
        "* **SGD**"
      ]
    },
    {
      "cell_type": "code",
      "execution_count": 2,
      "metadata": {
        "id": "eP0CwM9hhSJ0",
        "outputId": "9df0462a-b0b3-4d7f-c0a2-4655016c7439",
        "colab": {
          "base_uri": "https://localhost:8080/",
          "height": 1000
        }
      },
      "outputs": [
        {
          "output_type": "stream",
          "name": "stderr",
          "text": [
            "Epoch: 1, tloss: 422.1683654785156, vloss: 368.071625, EStop:[0/5]: 100%|██████████| 94/94 [00:00<00:00, 174.93it/s]\n",
            "Epoch: 2, tloss: 118.83221435546875, vloss: 184.881088, EStop:[0/5]: 100%|██████████| 94/94 [00:00<00:00, 204.26it/s]\n",
            "Epoch: 3, tloss: 48.56353759765625, vloss: 98.987411, EStop:[0/5]: 100%|██████████| 94/94 [00:00<00:00, 205.18it/s]\n",
            "Epoch: 4, tloss: 88.35760498046875, vloss: 58.690544, EStop:[0/5]: 100%|██████████| 94/94 [00:00<00:00, 193.17it/s]\n",
            "Epoch: 5, tloss: 25.140180587768555, vloss: 39.953678, EStop:[0/5]: 100%|██████████| 94/94 [00:00<00:00, 165.04it/s]\n",
            "Epoch: 6, tloss: 28.64287757873535, vloss: 29.082977, EStop:[0/5]: 100%|██████████| 94/94 [00:00<00:00, 193.96it/s]\n",
            "Epoch: 7, tloss: 20.488361358642578, vloss: 22.190884, EStop:[0/5]: 100%|██████████| 94/94 [00:00<00:00, 129.73it/s]\n",
            "Epoch: 8, tloss: 15.721875190734863, vloss: 18.023527, EStop:[0/5]: 100%|██████████| 94/94 [00:00<00:00, 219.85it/s]\n",
            "Epoch: 9, tloss: 14.510075569152832, vloss: 15.593664, EStop:[0/5]: 100%|██████████| 94/94 [00:00<00:00, 194.58it/s]\n",
            "Epoch: 10, tloss: 17.270532608032227, vloss: 13.784039, EStop:[0/5]: 100%|██████████| 94/94 [00:00<00:00, 159.15it/s]\n",
            "Epoch: 11, tloss: 6.417613506317139, vloss: 12.736746, EStop:[0/5]: 100%|██████████| 94/94 [00:00<00:00, 133.05it/s]\n",
            "Epoch: 12, tloss: 7.752538204193115, vloss: 11.746907, EStop:[0/5]: 100%|██████████| 94/94 [00:00<00:00, 181.75it/s]\n",
            "Epoch: 13, tloss: 4.448883533477783, vloss: 10.889936, EStop:[0/5]: 100%|██████████| 94/94 [00:00<00:00, 118.93it/s]\n",
            "Epoch: 14, tloss: 14.032478332519531, vloss: 10.975871, EStop:[1/5]: 100%|██████████| 94/94 [00:00<00:00, 153.24it/s]\n",
            "Epoch: 15, tloss: 5.569971561431885, vloss: 10.224639, EStop:[0/5]: 100%|██████████| 94/94 [00:00<00:00, 147.91it/s]\n",
            "Epoch: 16, tloss: 8.892776489257812, vloss: 9.140312, EStop:[0/5]: 100%|██████████| 94/94 [00:00<00:00, 182.47it/s]\n",
            "Epoch: 17, tloss: 7.198913097381592, vloss: 8.960660, EStop:[0/5]: 100%|██████████| 94/94 [00:00<00:00, 119.87it/s]\n",
            "Epoch: 18, tloss: 5.172001361846924, vloss: 7.828278, EStop:[0/5]: 100%|██████████| 94/94 [00:00<00:00, 153.17it/s]\n",
            "Epoch: 19, tloss: 2.664536237716675, vloss: 7.251225, EStop:[0/5]: 100%|██████████| 94/94 [00:00<00:00, 202.35it/s]\n",
            "Epoch: 20, tloss: 3.9240167140960693, vloss: 6.806837, EStop:[0/5]: 100%|██████████| 94/94 [00:00<00:00, 134.56it/s]\n",
            "Epoch: 21, tloss: 6.418772220611572, vloss: 6.377109, EStop:[0/5]: 100%|██████████| 94/94 [00:00<00:00, 123.43it/s]\n",
            "Epoch: 22, tloss: 4.9807305335998535, vloss: 5.975108, EStop:[0/5]: 100%|██████████| 94/94 [00:00<00:00, 134.94it/s]\n",
            "Epoch: 23, tloss: 6.457948684692383, vloss: 5.636638, EStop:[0/5]: 100%|██████████| 94/94 [00:00<00:00, 206.20it/s]\n",
            "Epoch: 24, tloss: 2.6046652793884277, vloss: 5.043608, EStop:[0/5]: 100%|██████████| 94/94 [00:00<00:00, 154.17it/s]\n",
            "Epoch: 25, tloss: 4.6146931648254395, vloss: 4.486343, EStop:[0/5]: 100%|██████████| 94/94 [00:00<00:00, 135.39it/s]\n",
            "Epoch: 26, tloss: 3.0931408405303955, vloss: 4.284842, EStop:[0/5]: 100%|██████████| 94/94 [00:00<00:00, 167.75it/s]\n",
            "Epoch: 27, tloss: 7.888783931732178, vloss: 3.819496, EStop:[0/5]: 100%|██████████| 94/94 [00:00<00:00, 203.28it/s]\n",
            "Epoch: 28, tloss: 3.5281918048858643, vloss: 3.702887, EStop:[0/5]: 100%|██████████| 94/94 [00:00<00:00, 171.44it/s]\n",
            "Epoch: 29, tloss: 3.1166703701019287, vloss: 3.052874, EStop:[0/5]: 100%|██████████| 94/94 [00:00<00:00, 136.37it/s]\n",
            "Epoch: 30, tloss: 1.826080322265625, vloss: 3.112499, EStop:[1/5]: 100%|██████████| 94/94 [00:00<00:00, 134.56it/s]\n",
            "Epoch: 31, tloss: 2.9030587673187256, vloss: 2.347496, EStop:[0/5]: 100%|██████████| 94/94 [00:00<00:00, 173.73it/s]\n",
            "Epoch: 32, tloss: 2.779500961303711, vloss: 2.250027, EStop:[0/5]: 100%|██████████| 94/94 [00:00<00:00, 180.18it/s]\n",
            "Epoch: 33, tloss: 1.6411932706832886, vloss: 1.854148, EStop:[0/5]: 100%|██████████| 94/94 [00:00<00:00, 185.33it/s]\n",
            "Epoch: 34, tloss: 1.3062936067581177, vloss: 1.653688, EStop:[0/5]: 100%|██████████| 94/94 [00:00<00:00, 95.70it/s]\n",
            "Epoch: 35, tloss: 1.0826871395111084, vloss: 1.400647, EStop:[0/5]: 100%|██████████| 94/94 [00:00<00:00, 191.33it/s]\n",
            "Epoch: 36, tloss: 2.1634390354156494, vloss: 1.265950, EStop:[0/5]: 100%|██████████| 94/94 [00:00<00:00, 156.08it/s]\n",
            "Epoch: 37, tloss: 1.3276456594467163, vloss: 1.212615, EStop:[0/5]: 100%|██████████| 94/94 [00:00<00:00, 152.78it/s]\n",
            "Epoch: 38, tloss: 0.725864827632904, vloss: 1.245503, EStop:[1/5]: 100%|██████████| 94/94 [00:00<00:00, 141.58it/s]\n",
            "Epoch: 39, tloss: 0.40001511573791504, vloss: 0.963296, EStop:[0/5]: 100%|██████████| 94/94 [00:00<00:00, 294.80it/s]\n",
            "Epoch: 40, tloss: 0.5019316077232361, vloss: 0.831438, EStop:[0/5]: 100%|██████████| 94/94 [00:00<00:00, 323.28it/s]\n",
            "Epoch: 41, tloss: 0.3051449954509735, vloss: 0.851389, EStop:[1/5]: 100%|██████████| 94/94 [00:00<00:00, 335.94it/s]\n",
            "Epoch: 42, tloss: 2.0305697917938232, vloss: 0.757655, EStop:[0/5]: 100%|██████████| 94/94 [00:00<00:00, 353.60it/s]\n",
            "Epoch: 43, tloss: 0.46165624260902405, vloss: 0.769788, EStop:[1/5]: 100%|██████████| 94/94 [00:00<00:00, 317.57it/s]\n",
            "Epoch: 44, tloss: 0.1743408590555191, vloss: 0.809444, EStop:[2/5]: 100%|██████████| 94/94 [00:00<00:00, 148.05it/s]\n",
            "Epoch: 45, tloss: 0.43844273686408997, vloss: 0.793652, EStop:[3/5]: 100%|██████████| 94/94 [00:00<00:00, 240.26it/s]\n",
            "Epoch: 46, tloss: 0.500935971736908, vloss: 0.650017, EStop:[0/5]: 100%|██████████| 94/94 [00:00<00:00, 296.34it/s]\n",
            "Epoch: 47, tloss: 0.26161786913871765, vloss: 0.634321, EStop:[0/5]: 100%|██████████| 94/94 [00:00<00:00, 331.27it/s]\n",
            "Epoch: 48, tloss: 0.44200262427330017, vloss: 0.630313, EStop:[1/5]: 100%|██████████| 94/94 [00:00<00:00, 347.74it/s]\n",
            "Epoch: 49, tloss: 1.063220739364624, vloss: 0.809079, EStop:[2/5]: 100%|██████████| 94/94 [00:00<00:00, 303.26it/s]\n",
            "Epoch: 50, tloss: 0.358307808637619, vloss: 0.657478, EStop:[3/5]: 100%|██████████| 94/94 [00:00<00:00, 159.37it/s]\n",
            "Epoch: 51, tloss: 0.28430598974227905, vloss: 0.631067, EStop:[4/5]: 100%|██████████| 94/94 [00:00<00:00, 286.04it/s]\n",
            "Epoch: 52, tloss: 0.18321289122104645, vloss: 0.601867, EStop:[0/5]: 100%|██████████| 94/94 [00:00<00:00, 354.46it/s]\n",
            "Epoch: 53, tloss: 0.704418420791626, vloss: 0.630935, EStop:[1/5]: 100%|██████████| 94/94 [00:00<00:00, 280.20it/s]\n",
            "Epoch: 54, tloss: 0.25373825430870056, vloss: 0.595679, EStop:[2/5]: 100%|██████████| 94/94 [00:00<00:00, 303.51it/s]\n",
            "Epoch: 55, tloss: 0.5178390145301819, vloss: 0.678171, EStop:[3/5]: 100%|██████████| 94/94 [00:00<00:00, 244.05it/s]\n",
            "Epoch: 56, tloss: 0.3173305094242096, vloss: 0.607830, EStop:[4/5]: 100%|██████████| 94/94 [00:00<00:00, 262.27it/s]\n",
            "Epoch: 57, tloss: 0.5326648950576782, vloss: 0.601794, EStop:[Stopped on 5]: 100%|██████████| 94/94 [00:00<00:00, 336.67it/s]\n"
          ]
        },
        {
          "output_type": "stream",
          "name": "stdout",
          "text": [
            "Final score (MSE): 0.6018675565719604\n",
            "Final score (RMSE): 0.7758012413978577\n"
          ]
        },
        {
          "output_type": "display_data",
          "data": {
            "text/plain": [
              "<Figure size 432x288 with 1 Axes>"
            ],
            "image/png": "[encoded data removed]"
          },
          "metadata": {
            "needs_background": "light"
          }
        }
      ],
      "source": [
        "%matplotlib inline\n",
        "\n",
        "import pandas as pd\n",
        "from scipy.stats import zscore\n",
        "from sklearn.model_selection import train_test_split\n",
        "from sklearn.metrics import accuracy_score\n",
        "from sklearn import preprocessing\n",
        "from sklearn import metrics\n",
        "import matplotlib.pyplot as plt\n",
        "import torch.nn as nn\n",
        "import torch.nn.functional as F\n",
        "from torch.utils.data import DataLoader, TensorDataset\n",
        "import numpy as np\n",
        "import tqdm\n",
        "import time\n",
        "\n",
        "# Read the data set\n",
        "df = pd.read_csv(\n",
        "    \"https://data.heatonresearch.com/data/t81-558/jh-simple-dataset.csv\",\n",
        "    na_values=['NA','?'])\n",
        "\n",
        "# Generate dummies for job\n",
        "df = pd.concat([df,pd.get_dummies(df['job'],prefix=\"job\")],axis=1)\n",
        "df.drop('job', axis=1, inplace=True)\n",
        "\n",
        "# Generate dummies for area\n",
        "df = pd.concat([df,pd.get_dummies(df['area'],prefix=\"area\")],axis=1)\n",
        "df.drop('area', axis=1, inplace=True)\n",
        "\n",
        "# Generate dummies for product\n",
        "df = pd.concat([df,pd.get_dummies(df['product'],prefix=\"product\")],axis=1)\n",
        "df.drop('product', axis=1, inplace=True)\n",
        "\n",
        "# Missing values for income\n",
        "med = df['income'].median()\n",
        "df['income'] = df['income'].fillna(med)\n",
        "\n",
        "# Standardize ranges\n",
        "df['income'] = zscore(df['income'])\n",
        "df['aspect'] = zscore(df['aspect'])\n",
        "df['save_rate'] = zscore(df['save_rate'])\n",
        "df['subscriptions'] = zscore(df['subscriptions'])\n",
        "\n",
        "# Convert to numpy - Classification\n",
        "x_columns = df.columns.drop('age').drop('id')\n",
        "x = df[x_columns].values\n",
        "y = df['age'].values\n",
        "\n",
        "# Define the PyTorch Neural Network\n",
        "class Net(nn.Module):\n",
        "    def __init__(self, in_count, out_count):\n",
        "        super(Net, self).__init__()\n",
        "        self.fc1 = nn.Linear(in_count, 50)\n",
        "        self.fc2 = nn.Linear(50, 25)\n",
        "        self.fc3 = nn.Linear(25, out_count)\n",
        "        #self.softmax = nn.Softmax(dim=1)\n",
        "\n",
        "    def forward(self, x):\n",
        "        x = F.relu(self.fc1(x))\n",
        "        x = F.relu(self.fc2(x))\n",
        "        #return self.softmax(self.fc3(x))\n",
        "        return self.fc3(x)\n",
        "\n",
        "# Split into validation and training sets\n",
        "x_train, x_test, y_train, y_test = train_test_split(    \n",
        "    x, y, test_size=0.25, random_state=42)\n",
        "\n",
        "# Numpy to Torch Tensor\n",
        "x_train = torch.Tensor(x_train).float()\n",
        "y_train = torch.Tensor(y_train).float()\n",
        "\n",
        "x_test = torch.Tensor(x_test).float().to(device)\n",
        "y_test = torch.Tensor(y_test).float().to(device)\n",
        "\n",
        "\n",
        "# Create datasets\n",
        "BATCH_SIZE = 16\n",
        "\n",
        "dataset_train = TensorDataset(x_train, y_train)\n",
        "dataloader_train = DataLoader(dataset_train,\\\n",
        "  batch_size=BATCH_SIZE, shuffle=True)\n",
        "\n",
        "dataset_test = TensorDataset(x_test, y_test)\n",
        "dataloader_test = DataLoader(dataset_test,\\\n",
        "  batch_size=BATCH_SIZE, shuffle=True)\n",
        "\n",
        "\n",
        "# Create model\n",
        "model = Net(x.shape[1],1).to(device)\n",
        "\n",
        "# Define the loss function for regression\n",
        "loss_fn = nn.MSELoss()\n",
        "\n",
        "# Define the optimizer\n",
        "optimizer = torch.optim.Adam(model.parameters())\n",
        "\n",
        "es = EarlyStopping()\n",
        "\n",
        "epoch = 0\n",
        "done = False\n",
        "while epoch<1000 and not done:\n",
        "  epoch += 1\n",
        "  steps = list(enumerate(dataloader_train))\n",
        "  pbar = tqdm.tqdm(steps)\n",
        "  model.train()\n",
        "  for i, (x_batch, y_batch) in pbar:\n",
        "    y_batch_pred = model(x_batch.to(device)).flatten()\n",
        "    loss = loss_fn(y_batch_pred, y_batch.to(device))\n",
        "    optimizer.zero_grad()\n",
        "    loss.backward()\n",
        "    optimizer.step()\n",
        "\n",
        "    loss, current = loss.item(), (i + 1)* len(x_batch)\n",
        "    if i == len(steps)-1:\n",
        "      model.eval()\n",
        "      pred = model(x_test).flatten()\n",
        "      vloss = loss_fn(pred, y_test)\n",
        "      if es(model,vloss): done = True\n",
        "      pbar.set_description(f\"Epoch: {epoch}, tloss: {loss}, vloss: {vloss:>7f}, EStop:[{es.status}]\")\n",
        "    else:\n",
        "      pbar.set_description(f\"Epoch: {epoch}, tloss {loss:}\")\n",
        "\n",
        "# Predict\n",
        "pred = model(x_test)\n",
        "\n",
        "# Measure MSE error.  \n",
        "score = metrics.mean_squared_error(pred.cpu().detach(),y_test.cpu())\n",
        "print(\"Final score (MSE): {}\".format(score))\n",
        "\n",
        "# Measure RMSE error.  RMSE is common for regression.\n",
        "score = np.sqrt(metrics.mean_squared_error(pred.cpu().detach(),y_test.cpu().detach()))\n",
        "print(\"Final score (RMSE): {}\".format(score))\n",
        "\n",
        "# Plot the chart\n",
        "chart_regression(pred.flatten().cpu().detach(),y_test.cpu().detach())"
      ]
    },
    {
      "cell_type": "code",
      "execution_count": 2,
      "metadata": {
        "id": "4UjEruzyhSJ0"
      },
      "outputs": [],
      "source": []
    }
  ],
  "metadata": {
    "anaconda-cloud": {},
    "kernelspec": {
      "display_name": "Python 3.9 (tensorflow)",
      "language": "python",
      "name": "tensorflow"
    },
    "language_info": {
      "codemirror_mode": {
        "name": "ipython",
        "version": 3
      },
      "file_extension": ".py",
      "mimetype": "text/x-python",
      "name": "python",
      "nbconvert_exporter": "python",
      "pygments_lexer": "ipython3",
      "version": "3.9.7"
    },
    "varInspector": {
      "cols": {
        "lenName": 16,
        "lenType": 16,
        "lenVar": 40
      },
      "kernels_config": {
        "python": {
          "delete_cmd_postfix": "",
          "delete_cmd_prefix": "del ",
          "library": "var_list.py",
          "varRefreshCmd": "print(var_dic_list())"
        },
        "r": {
          "delete_cmd_postfix": ") ",
          "delete_cmd_prefix": "rm(",
          "library": "var_list.r",
          "varRefreshCmd": "cat(var_dic_list()) "
        }
      },
      "types_to_exclude": [
        "module",
        "function",
        "builtin_function_or_method",
        "instance",
        "_Feature"
      ],
      "window_display": false
    },
    "colab": {
      "provenance": [],
      "collapsed_sections": []
    }
  },
  "nbformat": 4,
  "nbformat_minor": 0
}